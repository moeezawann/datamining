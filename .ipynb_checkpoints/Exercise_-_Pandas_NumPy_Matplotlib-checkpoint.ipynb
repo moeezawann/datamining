{
 "cells": [
  {
   "cell_type": "markdown",
   "id": "97b8188e",
   "metadata": {},
   "source": [
    "# Data Understanding and Visualization\n",
    "#### with Pandas, NumPy, and Matplotlib"
   ]
  },
  {
   "cell_type": "markdown",
   "id": "f53fdfbc",
   "metadata": {},
   "source": [
    "- Pandas\n",
    "    - Powerful data manipulation tool. Built for speed and efficiency.\n",
    "    - Lets you handle data with columns and rows.\n",
    "- NumPy\n",
    "    - Extremely fast mathematical library. Most scientific computing python packages are built ontop of NumPy\n",
    "    - Super fast N-Dimensional Arrays\n",
    "- Matplotlib\n",
    "    - Graphical visualizations of array data, either in pandas, numpy, or list format.\n",
    "    - Third party package seaborn offers more appealing API and color schemes."
   ]
  },
  {
   "cell_type": "markdown",
   "id": "ae23e31d",
   "metadata": {},
   "source": [
    "In this notebook, we'll install all of the packages at once, then run through NumPy, Pandas, and Matplotlib sections. You'll need to fill in some code, marked by #TODO."
   ]
  },
  {
   "cell_type": "markdown",
   "id": "4c4ce551",
   "metadata": {},
   "source": [
    "# Installation"
   ]
  },
  {
   "cell_type": "markdown",
   "id": "3b9d1bc7",
   "metadata": {},
   "source": [
    "Run the following cell to install all four packages at once. If this does not work on your system, you can manually use the command line to install these packages."
   ]
  },
  {
   "cell_type": "code",
   "execution_count": null,
   "id": "b0c481e9",
   "metadata": {},
   "outputs": [],
   "source": [
    "!pip install numpy pandas matplotlib seaborn"
   ]
  },
  {
   "cell_type": "markdown",
   "id": "618c2f57",
   "metadata": {},
   "source": [
    "# NumPy"
   ]
  },
  {
   "cell_type": "markdown",
   "id": "a48b881b",
   "metadata": {},
   "source": [
    "In this section, we'll work wtih NumPy arrays and understand how how we can work with this data structure"
   ]
  },
  {
   "cell_type": "code",
   "execution_count": null,
   "id": "25035bc3",
   "metadata": {},
   "outputs": [],
   "source": [
    "import numpy as np"
   ]
  },
  {
   "cell_type": "markdown",
   "id": "3f81cc6b",
   "metadata": {},
   "source": [
    "## N-Dimensional Arrays\n",
    "Run the two cells below. Observe how the first cell is a plain python list. The output of the second cell is a np.array with the same values. There is no \"shape\" to the plain python list. However, we can call .shape on any np.array to get the shape of that array. (Remember, arrays are N-Dimensional!)"
   ]
  },
  {
   "cell_type": "code",
   "execution_count": null,
   "id": "800e0162",
   "metadata": {},
   "outputs": [],
   "source": [
    "[1,2,3]"
   ]
  },
  {
   "cell_type": "code",
   "execution_count": null,
   "id": "18293905",
   "metadata": {},
   "outputs": [],
   "source": [
    "arr1 = np.array([1,2,3])\n",
    "arr1"
   ]
  },
  {
   "cell_type": "code",
   "execution_count": null,
   "id": "05a1278d",
   "metadata": {},
   "outputs": [],
   "source": [
    "arr1.shape"
   ]
  },
  {
   "cell_type": "markdown",
   "id": "afeefd48",
   "metadata": {},
   "source": [
    "Notice how a 1 dimensional array's shape has only one length followed by a trailing comma. This tells us that the first dimension's length is 3. Why is it not (3,1)? In the case of an array with shape (3,1), this would tell us it's a *2*-dimensional array with the first dimension's length is 3 and the second's is 1. This may seem like the same kind of array, but it is distinctly different -- especially when we get to Pandas!"
   ]
  },
  {
   "cell_type": "code",
   "execution_count": null,
   "id": "cf88f8a3",
   "metadata": {},
   "outputs": [],
   "source": [
    "arr2 = np.array([\n",
    "    [1,2,3],\n",
    "    [4,5,6]\n",
    "])\n",
    "arr2"
   ]
  },
  {
   "cell_type": "code",
   "execution_count": null,
   "id": "3bf6b69e",
   "metadata": {},
   "outputs": [],
   "source": [
    "#TODO: Write a line of code below to output the shape of the arr2 array. Expected output is (2,3)\n"
   ]
  },
  {
   "cell_type": "code",
   "execution_count": null,
   "id": "c5706439",
   "metadata": {},
   "outputs": [],
   "source": [
    "#TODO: Write some code to create an np.array that has the shape (3,3).\n"
   ]
  },
  {
   "cell_type": "markdown",
   "id": "5939d084",
   "metadata": {},
   "source": [
    "## Utility properties\n",
    "Using arr1 and arr2 from the previous cells, let's explore some utility properties that numpy offers."
   ]
  },
  {
   "cell_type": "code",
   "execution_count": null,
   "id": "b127785b",
   "metadata": {},
   "outputs": [],
   "source": [
    "# Finding the number of dimensions\n",
    "arr1.ndim"
   ]
  },
  {
   "cell_type": "code",
   "execution_count": null,
   "id": "69cda987",
   "metadata": {},
   "outputs": [],
   "source": [
    "arr2.ndim"
   ]
  },
  {
   "cell_type": "markdown",
   "id": "6d2dd864",
   "metadata": {},
   "source": [
    "Notice that the .ndim is the same if we took the length of shape:"
   ]
  },
  {
   "cell_type": "code",
   "execution_count": null,
   "id": "2934ef5d",
   "metadata": {},
   "outputs": [],
   "source": [
    "len(arr1.shape)"
   ]
  },
  {
   "cell_type": "code",
   "execution_count": null,
   "id": "f52a6961",
   "metadata": {},
   "outputs": [],
   "source": [
    "len(arr2.shape)"
   ]
  },
  {
   "cell_type": "code",
   "execution_count": null,
   "id": "0bf1d4d9",
   "metadata": {},
   "outputs": [],
   "source": [
    "# Finding what kind of number is stored\n",
    "arr1.dtype"
   ]
  },
  {
   "cell_type": "markdown",
   "id": "879466be",
   "metadata": {},
   "source": [
    "Notice that this means we can't have floats and ints in the same array. If we try to do that, our ints will be converted into floats."
   ]
  },
  {
   "cell_type": "code",
   "execution_count": null,
   "id": "076e6080",
   "metadata": {},
   "outputs": [],
   "source": [
    "np.array([1.4, 1])"
   ]
  },
  {
   "cell_type": "markdown",
   "id": "b1428e97",
   "metadata": {},
   "source": [
    "# Pandas"
   ]
  },
  {
   "cell_type": "code",
   "execution_count": null,
   "id": "457c7622",
   "metadata": {},
   "outputs": [],
   "source": [
    "import pandas as pd"
   ]
  },
  {
   "cell_type": "markdown",
   "id": "56058846",
   "metadata": {},
   "source": [
    "Most of Pandas' strength comes from DataFrames, which are like 2 dimensional arrays. There is also Pandas Series, which are like 1-dimensional arrays. Unlike NumPy, they can store objects (such as strings)"
   ]
  },
  {
   "cell_type": "code",
   "execution_count": null,
   "id": "fab6cd63",
   "metadata": {},
   "outputs": [],
   "source": [
    "animals = pd.Series(['dog','cat','frog','bee'])\n",
    "animals"
   ]
  },
  {
   "cell_type": "code",
   "execution_count": null,
   "id": "a92057c6",
   "metadata": {},
   "outputs": [],
   "source": [
    "colors = pd.Series(['brown', 'black', 'green', 'yellow'])\n",
    "colors"
   ]
  },
  {
   "cell_type": "code",
   "execution_count": null,
   "id": "8c4233d2",
   "metadata": {},
   "outputs": [],
   "source": [
    "animal_df = pd.DataFrame({\n",
    "    \"animal\": animals,\n",
    "    \"color\": colors\n",
    "})\n",
    "animal_df"
   ]
  },
  {
   "cell_type": "code",
   "execution_count": null,
   "id": "d6aa7752",
   "metadata": {},
   "outputs": [],
   "source": [
    "#TODO: Create your own dataframe! It can be anything, as long as it has at least 2 columns and 3 rows.\n"
   ]
  },
  {
   "cell_type": "markdown",
   "id": "628dd11c",
   "metadata": {},
   "source": [
    "## Working with data!\n",
    "In this section, we'll be using the two csv files from canvas:\n",
    "- honeyproduction.csv\n",
    "- honeyproduction_withnulls.csv"
   ]
  },
  {
   "cell_type": "markdown",
   "id": "8317b5b7",
   "metadata": {},
   "source": [
    "Download the files from canvas and place them in the same folder as this notebook."
   ]
  },
  {
   "cell_type": "code",
   "execution_count": null,
   "id": "eab77216",
   "metadata": {},
   "outputs": [],
   "source": [
    "honey_df = pd.read_csv(\"honeyproduction.csv\")"
   ]
  },
  {
   "cell_type": "markdown",
   "id": "e6cce67d",
   "metadata": {},
   "source": [
    "Now let's take a look at the first five rows. We can use .head() to display the \"head\" "
   ]
  },
  {
   "cell_type": "code",
   "execution_count": null,
   "id": "b6d93c0c",
   "metadata": {},
   "outputs": [],
   "source": [
    "honey_df.head()"
   ]
  },
  {
   "cell_type": "markdown",
   "id": "817e8fd4",
   "metadata": {},
   "source": [
    "### DataFrame utility properties!"
   ]
  },
  {
   "cell_type": "code",
   "execution_count": null,
   "id": "6a324a35",
   "metadata": {},
   "outputs": [],
   "source": [
    "# get the data type for each column.\n",
    "honey_df.dtypes"
   ]
  },
  {
   "cell_type": "markdown",
   "id": "e47fa42f",
   "metadata": {},
   "source": [
    "Notice the similarity in how these are presented compared to NumPy dtypes!"
   ]
  },
  {
   "cell_type": "code",
   "execution_count": null,
   "id": "7f2e50b1",
   "metadata": {},
   "outputs": [],
   "source": [
    "# get a list-like object (Index) of the columns. This is an iterable object.\n",
    "honey_df.columns"
   ]
  },
  {
   "cell_type": "markdown",
   "id": "9a257452",
   "metadata": {},
   "source": [
    "Now, try to get the shape of the DataFrame. Think of how shapes work in NumPy."
   ]
  },
  {
   "cell_type": "code",
   "execution_count": null,
   "id": "93b0a2f6",
   "metadata": {},
   "outputs": [],
   "source": [
    "#TODO get shape of honey_df. Expected output: (626, 8)\n"
   ]
  },
  {
   "cell_type": "markdown",
   "id": "116db331",
   "metadata": {},
   "source": [
    "We can also use `.describe()` to see some statistical information on the numerical columns."
   ]
  },
  {
   "cell_type": "code",
   "execution_count": null,
   "id": "1bccbe4d",
   "metadata": {},
   "outputs": [],
   "source": [
    "honey_df.describe()"
   ]
  },
  {
   "cell_type": "markdown",
   "id": "41b714cc",
   "metadata": {},
   "source": [
    "### Slicing DataFrames\n",
    "Let's practice slicing the DataFrame to precicely access certain parts of the data."
   ]
  },
  {
   "cell_type": "code",
   "execution_count": null,
   "id": "1fdc81ee",
   "metadata": {},
   "outputs": [],
   "source": [
    "# get the column with state information\n",
    "honey_df['state']"
   ]
  },
  {
   "cell_type": "code",
   "execution_count": null,
   "id": "655b98ab",
   "metadata": {},
   "outputs": [],
   "source": [
    "# get the columns with state, priceperlb, and year information\n",
    "honey_df[['state', 'priceperlb', 'year']]"
   ]
  },
  {
   "cell_type": "markdown",
   "id": "c012be48",
   "metadata": {},
   "source": [
    "**CHECKPOINT!**\n",
    "Notice how the syntax is different for accessing one column compared to multiple. Also note how when accessing one column, we get a Series object. Contrast this to multiple columns, where we get a DataFrame that is a subset of `honey_df`"
   ]
  },
  {
   "cell_type": "markdown",
   "id": "ce415a57",
   "metadata": {},
   "source": [
    "But what about rows?"
   ]
  },
  {
   "cell_type": "code",
   "execution_count": null,
   "id": "dae59a1e",
   "metadata": {},
   "outputs": [],
   "source": [
    "# let's take a look at our DataFrame for reference.\n",
    "honey_df.head()"
   ]
  },
  {
   "cell_type": "code",
   "execution_count": null,
   "id": "a5bda4f5",
   "metadata": {},
   "outputs": [],
   "source": [
    "# if we want to LOCate the row with the label 0:\n",
    "honey_df.loc[0]"
   ]
  },
  {
   "cell_type": "code",
   "execution_count": null,
   "id": "2a411e25",
   "metadata": {},
   "outputs": [],
   "source": [
    "# if we want to locate the row based on position (not necessarily the labeled index)\n",
    "honey_df.iloc[2]"
   ]
  },
  {
   "cell_type": "code",
   "execution_count": null,
   "id": "67e887f5",
   "metadata": {},
   "outputs": [],
   "source": [
    "# we can do ranges as well. they work like normal python slicing syntax\n",
    "honey_df.iloc[1:4]"
   ]
  },
  {
   "cell_type": "code",
   "execution_count": null,
   "id": "d7771542",
   "metadata": {},
   "outputs": [],
   "source": [
    "# just to prove the point, we can even get the first few even rows:\n",
    "honey_df.iloc[0:11:2]"
   ]
  },
  {
   "cell_type": "markdown",
   "id": "85e1969a",
   "metadata": {},
   "source": [
    "### Filtering DataFrames with conditionals"
   ]
  },
  {
   "cell_type": "code",
   "execution_count": null,
   "id": "9ba3a9cb",
   "metadata": {},
   "outputs": [],
   "source": [
    "# filter the honey_df DataFrame so that we have all rows from NC\n",
    "honey_df[honey_df['state'] == 'NC']"
   ]
  },
  {
   "cell_type": "markdown",
   "id": "02558156",
   "metadata": {},
   "source": [
    "This syntax is confusing, but let's break it down:\n",
    "\n",
    "Here's the column of `honey_df` that has state data"
   ]
  },
  {
   "cell_type": "code",
   "execution_count": null,
   "id": "3b53e25e",
   "metadata": {},
   "outputs": [],
   "source": [
    "honey_df['state']"
   ]
  },
  {
   "cell_type": "markdown",
   "id": "cbf15b35",
   "metadata": {},
   "source": [
    "We can use a conditional to return a series of boolean values, which indicate whether that conditional was evaluated as true or false for a given row."
   ]
  },
  {
   "cell_type": "code",
   "execution_count": null,
   "id": "ca670b6a",
   "metadata": {},
   "outputs": [],
   "source": [
    "honey_df['state'] == 'NC'"
   ]
  },
  {
   "cell_type": "markdown",
   "id": "42f93f74",
   "metadata": {},
   "source": [
    "Bringing it together, we get the rows of honey_df where our conditional was true!"
   ]
  },
  {
   "cell_type": "code",
   "execution_count": null,
   "id": "192613e2",
   "metadata": {},
   "outputs": [],
   "source": [
    "honey_df[honey_df['state'] == 'NC']"
   ]
  },
  {
   "cell_type": "code",
   "execution_count": null,
   "id": "b8a39128",
   "metadata": {},
   "outputs": [],
   "source": [
    "#TODO write your own conditional to filter a subset of the DataFrame.\n",
    "#It can be anything EXCEPT filtering by state. Hint: Try year!\n"
   ]
  },
  {
   "cell_type": "markdown",
   "id": "a573bec3",
   "metadata": {},
   "source": [
    "## Working with missing data/nulls!\n",
    "Now, real world data is never 'clean'. We should practice on some data that has null values. Let's re-assign `honey_df` to a DataFrame with data from `honeyproduction_withnulls.csv`"
   ]
  },
  {
   "cell_type": "code",
   "execution_count": null,
   "id": "ef2a2df8",
   "metadata": {},
   "outputs": [],
   "source": [
    "honey_df = pd.read_csv('honeyproduction_withnulls.csv')"
   ]
  },
  {
   "cell_type": "code",
   "execution_count": null,
   "id": "706012c3",
   "metadata": {},
   "outputs": [],
   "source": [
    "honey_df.head()"
   ]
  },
  {
   "cell_type": "markdown",
   "id": "8ba4064b",
   "metadata": {},
   "source": [
    "We can see some nulls: specifically under totalprod and priceperlb. These are marked as NaN, as that's how NumPy handles non-existant data. Let's see how many nulls we have:"
   ]
  },
  {
   "cell_type": "code",
   "execution_count": null,
   "id": "b2055136",
   "metadata": {},
   "outputs": [],
   "source": [
    "honey_df.isna().sum()"
   ]
  },
  {
   "cell_type": "markdown",
   "id": "afcc6e3b",
   "metadata": {},
   "source": [
    "This returns the sum of the true values from `isna()`, which gives us a ccount of all nulls in our DataFrame, by column. For `totalprod`, let's just full the null values with the mean. This can work since there's very few nulls."
   ]
  },
  {
   "cell_type": "code",
   "execution_count": null,
   "id": "aa5428ec",
   "metadata": {},
   "outputs": [],
   "source": [
    "honey_df['totalprod'] = honey_df['totalprod'].fillna(\n",
    "    honey_df['totalprod'].mean()\n",
    ")"
   ]
  },
  {
   "cell_type": "code",
   "execution_count": null,
   "id": "94a023fa",
   "metadata": {},
   "outputs": [],
   "source": [
    "honey_df.isna().sum()"
   ]
  },
  {
   "cell_type": "code",
   "execution_count": null,
   "id": "d806e88c",
   "metadata": {},
   "outputs": [],
   "source": [
    "#TODO do the same for priceperlb\n"
   ]
  },
  {
   "cell_type": "markdown",
   "id": "6e875d9f",
   "metadata": {},
   "source": [
    "Now we're going to just drop the rows that have null values. If you're certain that you only have a few null datapoints and that the presence of null values have no impact on your dataset, this can be a good approach. Let's see the length of `honey_df` before and after as well."
   ]
  },
  {
   "cell_type": "code",
   "execution_count": null,
   "id": "bfaf457b",
   "metadata": {},
   "outputs": [],
   "source": [
    "len(honey_df)"
   ]
  },
  {
   "cell_type": "code",
   "execution_count": null,
   "id": "c24031e7",
   "metadata": {},
   "outputs": [],
   "source": [
    "honey_df = honey_df.dropna(axis=0)"
   ]
  },
  {
   "cell_type": "code",
   "execution_count": null,
   "id": "9282b8f9",
   "metadata": {},
   "outputs": [],
   "source": [
    "len(honey_df)"
   ]
  },
  {
   "cell_type": "markdown",
   "id": "a94d86a9",
   "metadata": {},
   "source": [
    "Only dropping 11 rows is great for this dataset!"
   ]
  },
  {
   "cell_type": "markdown",
   "id": "0d494231",
   "metadata": {},
   "source": [
    "## Adding new columns"
   ]
  },
  {
   "cell_type": "markdown",
   "id": "c6f01d95",
   "metadata": {},
   "source": [
    "Let's say we need to add the price per ounce as well. Here's how we can add another column to our DataFrame."
   ]
  },
  {
   "cell_type": "code",
   "execution_count": null,
   "id": "e855bb4d",
   "metadata": {},
   "outputs": [],
   "source": [
    "honey_df['priceperoz'] = honey_df['priceperlb'] / 16"
   ]
  },
  {
   "cell_type": "code",
   "execution_count": null,
   "id": "5de46296",
   "metadata": {},
   "outputs": [],
   "source": [
    "honey_df.head()"
   ]
  },
  {
   "cell_type": "markdown",
   "id": "8f76f4ad",
   "metadata": {},
   "source": [
    "## Sampling data"
   ]
  },
  {
   "cell_type": "markdown",
   "id": "8dc02cab",
   "metadata": {},
   "source": [
    "If we need to take a sampling of our data, say 23%, we can do this easily."
   ]
  },
  {
   "cell_type": "code",
   "execution_count": null,
   "id": "3ab15393",
   "metadata": {},
   "outputs": [],
   "source": [
    "sampled_df = honey_df.sample(frac=0.23)"
   ]
  },
  {
   "cell_type": "code",
   "execution_count": null,
   "id": "1cccd350",
   "metadata": {},
   "outputs": [],
   "source": [
    "len(sampled_df)"
   ]
  },
  {
   "cell_type": "code",
   "execution_count": null,
   "id": "12ebe38b",
   "metadata": {},
   "outputs": [],
   "source": [
    "len(honey_df)"
   ]
  },
  {
   "cell_type": "markdown",
   "id": "cfe6c302",
   "metadata": {},
   "source": [
    "## Applying functions to a column"
   ]
  },
  {
   "cell_type": "markdown",
   "id": "964c5eec",
   "metadata": {},
   "source": [
    "Let's say we need the price per gram. We could do this using a similar syntax to when we created priceperoz, but for the sake of exercise let's use `.apply()`"
   ]
  },
  {
   "cell_type": "code",
   "execution_count": null,
   "id": "98c38fa6",
   "metadata": {},
   "outputs": [],
   "source": [
    "honey_df['priceperoz'].apply(lambda p: p * 28.35)"
   ]
  },
  {
   "cell_type": "markdown",
   "id": "01cfdb36",
   "metadata": {},
   "source": [
    "To add this to our DataFrame, we can just assign a column to this Series."
   ]
  },
  {
   "cell_type": "code",
   "execution_count": null,
   "id": "4772f9b1",
   "metadata": {},
   "outputs": [],
   "source": [
    "honey_df['pricepergram'] = honey_df['priceperoz'].apply(lambda p: p * 28.35)"
   ]
  },
  {
   "cell_type": "code",
   "execution_count": null,
   "id": "bff21f05",
   "metadata": {},
   "outputs": [],
   "source": [
    "honey_df.head()"
   ]
  },
  {
   "cell_type": "markdown",
   "id": "5473919e",
   "metadata": {},
   "source": [
    "# Matplotlib"
   ]
  },
  {
   "cell_type": "code",
   "execution_count": null,
   "id": "9f4ef3b4",
   "metadata": {},
   "outputs": [],
   "source": [
    "import matplotlib.pyplot as plt"
   ]
  },
  {
   "cell_type": "markdown",
   "id": "51da212b",
   "metadata": {},
   "source": [
    "Matplotlib is a powerful and versatile tool for creating graphs. Follow along with the code below:"
   ]
  },
  {
   "cell_type": "code",
   "execution_count": null,
   "id": "60a09350",
   "metadata": {},
   "outputs": [],
   "source": [
    "# an empty plot\n",
    "plt.plot()"
   ]
  },
  {
   "cell_type": "code",
   "execution_count": null,
   "id": "0c8a95a2",
   "metadata": {},
   "outputs": [],
   "source": [
    "# plotting a list\n",
    "plt.plot([1, 2, 3, 4])"
   ]
  },
  {
   "cell_type": "code",
   "execution_count": null,
   "id": "eb3db170",
   "metadata": {},
   "outputs": [],
   "source": [
    "# plotting two lists against eachother\n",
    "x = [1, 2, 3, 4]\n",
    "y = [5, 19, 12, 12]\n",
    "fig, ax = plt.subplots()\n",
    "ax.plot(x, y)"
   ]
  },
  {
   "cell_type": "code",
   "execution_count": null,
   "id": "56433763",
   "metadata": {},
   "outputs": [],
   "source": [
    "# a more professional looking plot, with saving to png!\n",
    "# 1. prepare data\n",
    "x = [1, 2, 3, 4]\n",
    "y = [13, 53, 39, 2]\n",
    "\n",
    "# 2. setup plot\n",
    "fig, ax = plt.subplots(figsize=(20,10))\n",
    "\n",
    "# 3. plotting data\n",
    "ax.plot(x, y)\n",
    "\n",
    "# 4. customize plot\n",
    "ax.set(title=\"simple plot\", xlabel=\"x axis\", ylabel=\"yaxis\")\n",
    "\n",
    "# 5. save and show figure\n",
    "fig.savefig('sample-plot.png')"
   ]
  },
  {
   "cell_type": "markdown",
   "id": "4098e503",
   "metadata": {},
   "source": [
    "## Working with DataFrames"
   ]
  },
  {
   "cell_type": "code",
   "execution_count": null,
   "id": "8f81e00a",
   "metadata": {},
   "outputs": [],
   "source": [
    "# it's very easy to use .plot() on a DataFrame.\n",
    "honey_df.plot(x='year', y='stocks', kind='scatter')"
   ]
  },
  {
   "cell_type": "code",
   "execution_count": null,
   "id": "ae3daec8",
   "metadata": {},
   "outputs": [],
   "source": [
    "#TODO plot your own scatter plot on honey_df:\n"
   ]
  },
  {
   "cell_type": "markdown",
   "id": "9c8ed594",
   "metadata": {},
   "source": [
    "## Seaborn\n",
    "We can use seaborn for prettier graphics"
   ]
  },
  {
   "cell_type": "code",
   "execution_count": null,
   "id": "ef12d3e3",
   "metadata": {},
   "outputs": [],
   "source": [
    "import seaborn as sns"
   ]
  },
  {
   "cell_type": "code",
   "execution_count": null,
   "id": "ba0a08c7",
   "metadata": {},
   "outputs": [],
   "source": [
    "sns.set(rc={\"figure.figsize\":(20,12)}) # change the figure size to width=20, height=12\n",
    "sns.lineplot(data=honey_df, x='year', y='stocks', hue='state')"
   ]
  },
  {
   "cell_type": "markdown",
   "id": "5571efed",
   "metadata": {},
   "source": [
    "Notice here that we need to pass in the data to `.lineplot()`"
   ]
  },
  {
   "cell_type": "markdown",
   "id": "51677dbd",
   "metadata": {},
   "source": [
    "What happens if we want a scatterplot against all columns?"
   ]
  },
  {
   "cell_type": "code",
   "execution_count": null,
   "id": "8c845bfb",
   "metadata": {},
   "outputs": [],
   "source": [
    "sns.pairplot(data=honey_df)"
   ]
  },
  {
   "cell_type": "code",
   "execution_count": null,
   "id": "81da5e66",
   "metadata": {},
   "outputs": [],
   "source": [
    "#TODO: Change this line plot to a scatter plot. (HINT: Change sns.lineplot)\n",
    "sns.set(rc={\"figure.figsize\":(20,12)}) # change the figure size to width=20, height=12\n",
    "sns.lineplot(data=honey_df, x='year', y='stocks', hue='state')"
   ]
  },
  {
   "cell_type": "code",
   "execution_count": null,
   "id": "8e775009",
   "metadata": {},
   "outputs": [],
   "source": []
  }
 ],
 "metadata": {
  "kernelspec": {
   "display_name": "Python 3",
   "language": "python",
   "name": "python3"
  },
  "language_info": {
   "codemirror_mode": {
    "name": "ipython",
    "version": 3
   },
   "file_extension": ".py",
   "mimetype": "text/x-python",
   "name": "python",
   "nbconvert_exporter": "python",
   "pygments_lexer": "ipython3",
   "version": "3.9.5"
  }
 },
 "nbformat": 4,
 "nbformat_minor": 5
}
