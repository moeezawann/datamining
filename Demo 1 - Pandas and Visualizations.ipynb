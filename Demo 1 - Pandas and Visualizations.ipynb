{
 "cells": [
  {
   "cell_type": "markdown",
   "id": "2122b99b",
   "metadata": {},
   "source": [
    "# Demo 1: Pandas and Visualizations"
   ]
  },
  {
   "cell_type": "markdown",
   "id": "3cc901ac",
   "metadata": {},
   "source": [
    "## Install and Load Libraries"
   ]
  },
  {
   "cell_type": "markdown",
   "id": "4f0c7e38",
   "metadata": {},
   "source": [
    "We will need to install the pandas package. Can do it within the Anaconda navigator, through the command prompt/terminal, or from within jupyter notebook itself:"
   ]
  },
  {
   "cell_type": "code",
   "execution_count": 1,
   "id": "b9f175f7",
   "metadata": {},
   "outputs": [
    {
     "name": "stdout",
     "output_type": "stream",
     "text": [
      "Requirement already satisfied: pandas in /opt/anaconda3/lib/python3.12/site-packages (2.2.2)\n",
      "Requirement already satisfied: numpy>=1.26.0 in /opt/anaconda3/lib/python3.12/site-packages (from pandas) (1.26.4)\n",
      "Requirement already satisfied: python-dateutil>=2.8.2 in /opt/anaconda3/lib/python3.12/site-packages (from pandas) (2.9.0.post0)\n",
      "Requirement already satisfied: pytz>=2020.1 in /opt/anaconda3/lib/python3.12/site-packages (from pandas) (2024.1)\n",
      "Requirement already satisfied: tzdata>=2022.7 in /opt/anaconda3/lib/python3.12/site-packages (from pandas) (2023.3)\n",
      "Requirement already satisfied: six>=1.5 in /opt/anaconda3/lib/python3.12/site-packages (from python-dateutil>=2.8.2->pandas) (1.16.0)\n"
     ]
    }
   ],
   "source": [
    "%pip install pandas"
   ]
  },
  {
   "cell_type": "markdown",
   "id": "b810fa68",
   "metadata": {},
   "source": [
    "Now let's import it."
   ]
  },
  {
   "cell_type": "code",
   "execution_count": 2,
   "id": "603b5174",
   "metadata": {},
   "outputs": [
    {
     "ename": "ModuleNotFoundError",
     "evalue": "No module named 'pandas'",
     "output_type": "error",
     "traceback": [
      "\u001b[0;31m---------------------------------------------------------------------------\u001b[0m",
      "\u001b[0;31mModuleNotFoundError\u001b[0m                       Traceback (most recent call last)",
      "Cell \u001b[0;32mIn[2], line 1\u001b[0m\n\u001b[0;32m----> 1\u001b[0m \u001b[38;5;28;01mimport\u001b[39;00m \u001b[38;5;21;01mpandas\u001b[39;00m \u001b[38;5;28;01mas\u001b[39;00m \u001b[38;5;21;01mpd\u001b[39;00m\n",
      "\u001b[0;31mModuleNotFoundError\u001b[0m: No module named 'pandas'"
     ]
    }
   ],
   "source": [
    "import pandas as pd"
   ]
  },
  {
   "cell_type": "markdown",
   "id": "55304b57",
   "metadata": {},
   "source": [
    "## Series vs DataFrame"
   ]
  },
  {
   "cell_type": "markdown",
   "id": "0428c347",
   "metadata": {},
   "source": [
    "Before jumping into pandas, let's look at what a basic Python series looks like. It is one-dimensional:"
   ]
  },
  {
   "cell_type": "code",
   "execution_count": 3,
   "id": "d144049b",
   "metadata": {},
   "outputs": [
    {
     "ename": "NameError",
     "evalue": "name 'pd' is not defined",
     "output_type": "error",
     "traceback": [
      "\u001b[0;31m---------------------------------------------------------------------------\u001b[0m",
      "\u001b[0;31mNameError\u001b[0m                                 Traceback (most recent call last)",
      "Cell \u001b[0;32mIn[3], line 1\u001b[0m\n\u001b[0;32m----> 1\u001b[0m series \u001b[38;5;241m=\u001b[39m pd\u001b[38;5;241m.\u001b[39mSeries([\u001b[38;5;124m'\u001b[39m\u001b[38;5;124mdog\u001b[39m\u001b[38;5;124m'\u001b[39m, \u001b[38;5;124m'\u001b[39m\u001b[38;5;124mcat\u001b[39m\u001b[38;5;124m'\u001b[39m, \u001b[38;5;124m'\u001b[39m\u001b[38;5;124mfrog\u001b[39m\u001b[38;5;124m'\u001b[39m])\n",
      "\u001b[0;31mNameError\u001b[0m: name 'pd' is not defined"
     ]
    }
   ],
   "source": [
    "series = pd.Series(['dog', 'cat', 'frog'])"
   ]
  },
  {
   "cell_type": "code",
   "execution_count": 5,
   "id": "773c74d3",
   "metadata": {},
   "outputs": [
    {
     "data": {
      "text/plain": [
       "0     dog\n",
       "1     cat\n",
       "2    frog\n",
       "dtype: object"
      ]
     },
     "execution_count": 5,
     "metadata": {},
     "output_type": "execute_result"
    }
   ],
   "source": [
    "series"
   ]
  },
  {
   "cell_type": "code",
   "execution_count": 6,
   "id": "e54b4c02",
   "metadata": {},
   "outputs": [
    {
     "data": {
      "text/plain": [
       "0     blue\n",
       "1    black\n",
       "2    green\n",
       "dtype: object"
      ]
     },
     "execution_count": 6,
     "metadata": {},
     "output_type": "execute_result"
    }
   ],
   "source": [
    "colors = pd.Series(['blue','black','green'])\n",
    "colors"
   ]
  },
  {
   "cell_type": "markdown",
   "id": "80e7fbc3",
   "metadata": {},
   "source": [
    "We have an index (0, 1, 2) and the elements (dog, cat, frog).  \n",
    "Now if we make a DataFrame, it is two-dimensional:"
   ]
  },
  {
   "cell_type": "code",
   "execution_count": 7,
   "id": "8f693235",
   "metadata": {},
   "outputs": [],
   "source": [
    "animal_df = pd.DataFrame({\"Animal\": series, \"Colors\": colors})"
   ]
  },
  {
   "cell_type": "code",
   "execution_count": 8,
   "id": "14f3f745",
   "metadata": {},
   "outputs": [
    {
     "data": {
      "text/html": [
       "<div>\n",
       "<style scoped>\n",
       "    .dataframe tbody tr th:only-of-type {\n",
       "        vertical-align: middle;\n",
       "    }\n",
       "\n",
       "    .dataframe tbody tr th {\n",
       "        vertical-align: top;\n",
       "    }\n",
       "\n",
       "    .dataframe thead th {\n",
       "        text-align: right;\n",
       "    }\n",
       "</style>\n",
       "<table border=\"1\" class=\"dataframe\">\n",
       "  <thead>\n",
       "    <tr style=\"text-align: right;\">\n",
       "      <th></th>\n",
       "      <th>Animal</th>\n",
       "      <th>Colors</th>\n",
       "    </tr>\n",
       "  </thead>\n",
       "  <tbody>\n",
       "    <tr>\n",
       "      <th>0</th>\n",
       "      <td>dog</td>\n",
       "      <td>blue</td>\n",
       "    </tr>\n",
       "    <tr>\n",
       "      <th>1</th>\n",
       "      <td>cat</td>\n",
       "      <td>black</td>\n",
       "    </tr>\n",
       "    <tr>\n",
       "      <th>2</th>\n",
       "      <td>frog</td>\n",
       "      <td>green</td>\n",
       "    </tr>\n",
       "  </tbody>\n",
       "</table>\n",
       "</div>"
      ],
      "text/plain": [
       "  Animal Colors\n",
       "0    dog   blue\n",
       "1    cat  black\n",
       "2   frog  green"
      ]
     },
     "execution_count": 8,
     "metadata": {},
     "output_type": "execute_result"
    }
   ],
   "source": [
    "animal_df"
   ]
  },
  {
   "cell_type": "markdown",
   "id": "5faa4ef7",
   "metadata": {},
   "source": [
    "Here, we see more of a table format. This is what most of the data we work with will look like (but larger!)."
   ]
  },
  {
   "cell_type": "markdown",
   "id": "e1c55107",
   "metadata": {},
   "source": [
    "## Reading in our data!"
   ]
  },
  {
   "cell_type": "markdown",
   "id": "0a174747",
   "metadata": {},
   "source": [
    "If we are ever unsure about what a method is for or how to use it, jupyter notebook allows us to pull up the documentation by adding a '?' at the end of it. Try looking at the documentation for `pd.read_csv`."
   ]
  },
  {
   "cell_type": "markdown",
   "id": "c51f3678",
   "metadata": {},
   "source": [
    "This data is obtained from https://www.kaggle.com/datasets/jgiigii/uscrimesdataset"
   ]
  },
  {
   "cell_type": "code",
   "execution_count": 9,
   "id": "8d2534f2",
   "metadata": {},
   "outputs": [],
   "source": [
    "df = pd.read_csv?"
   ]
  },
  {
   "cell_type": "code",
   "execution_count": 12,
   "id": "b9bb78ee",
   "metadata": {},
   "outputs": [
    {
     "name": "stderr",
     "output_type": "stream",
     "text": [
      "d:\\projects\\class\\env\\lib\\site-packages\\IPython\\core\\interactiveshell.py:3441: DtypeWarning: Columns (1,18) have mixed types.Specify dtype option on import or set low_memory=False.\n",
      "  exec(code_obj, self.user_global_ns, self.user_ns)\n"
     ]
    }
   ],
   "source": [
    "df = pd.read_csv(\"data/Crime.csv\")"
   ]
  },
  {
   "cell_type": "markdown",
   "id": "135af370",
   "metadata": {},
   "source": [
    "It is also possible to read in a csv from a URL rather than a local file. For example:"
   ]
  },
  {
   "cell_type": "code",
   "execution_count": 13,
   "id": "9b77d8ed",
   "metadata": {},
   "outputs": [
    {
     "data": {
      "text/html": [
       "<div>\n",
       "<style scoped>\n",
       "    .dataframe tbody tr th:only-of-type {\n",
       "        vertical-align: middle;\n",
       "    }\n",
       "\n",
       "    .dataframe tbody tr th {\n",
       "        vertical-align: top;\n",
       "    }\n",
       "\n",
       "    .dataframe thead th {\n",
       "        text-align: right;\n",
       "    }\n",
       "</style>\n",
       "<table border=\"1\" class=\"dataframe\">\n",
       "  <thead>\n",
       "    <tr style=\"text-align: right;\">\n",
       "      <th></th>\n",
       "      <th>Indexed search interest in 'health care' from May 2 to May 4, 2017. 100 is the max value, and every number is relative to that.</th>\n",
       "      <th>Unnamed: 1</th>\n",
       "      <th>Unnamed: 2</th>\n",
       "      <th>Unnamed: 3</th>\n",
       "      <th>Unnamed: 4</th>\n",
       "    </tr>\n",
       "  </thead>\n",
       "  <tbody>\n",
       "    <tr>\n",
       "      <th>0</th>\n",
       "      <td>Metropolitan Area</td>\n",
       "      <td>Search Value</td>\n",
       "      <td>Rank</td>\n",
       "      <td>NaN</td>\n",
       "      <td></td>\n",
       "    </tr>\n",
       "    <tr>\n",
       "      <th>1</th>\n",
       "      <td>Helena MT (Montana United States)</td>\n",
       "      <td>100</td>\n",
       "      <td>1</td>\n",
       "      <td>NaN</td>\n",
       "      <td>NaN</td>\n",
       "    </tr>\n",
       "    <tr>\n",
       "      <th>2</th>\n",
       "      <td>Bangor ME (Maine United States)</td>\n",
       "      <td>95</td>\n",
       "      <td>2</td>\n",
       "      <td>NaN</td>\n",
       "      <td>NaN</td>\n",
       "    </tr>\n",
       "    <tr>\n",
       "      <th>3</th>\n",
       "      <td>Jackson TN (Tennessee United States)</td>\n",
       "      <td>95</td>\n",
       "      <td>3</td>\n",
       "      <td>NaN</td>\n",
       "      <td>NaN</td>\n",
       "    </tr>\n",
       "    <tr>\n",
       "      <th>4</th>\n",
       "      <td>Utica NY (New York United States)</td>\n",
       "      <td>86</td>\n",
       "      <td>4</td>\n",
       "      <td>NaN</td>\n",
       "      <td>NaN</td>\n",
       "    </tr>\n",
       "    <tr>\n",
       "      <th>...</th>\n",
       "      <td>...</td>\n",
       "      <td>...</td>\n",
       "      <td>...</td>\n",
       "      <td>...</td>\n",
       "      <td>...</td>\n",
       "    </tr>\n",
       "    <tr>\n",
       "      <th>206</th>\n",
       "      <td>Alpena MI (Michigan United States)</td>\n",
       "      <td>35</td>\n",
       "      <td>206</td>\n",
       "      <td>NaN</td>\n",
       "      <td>NaN</td>\n",
       "    </tr>\n",
       "    <tr>\n",
       "      <th>207</th>\n",
       "      <td>Odessa-Midland TX (Texas United States)</td>\n",
       "      <td>33</td>\n",
       "      <td>207</td>\n",
       "      <td>NaN</td>\n",
       "      <td>NaN</td>\n",
       "    </tr>\n",
       "    <tr>\n",
       "      <th>208</th>\n",
       "      <td>Corpus Christi TX (Texas United States)</td>\n",
       "      <td>32</td>\n",
       "      <td>208</td>\n",
       "      <td>NaN</td>\n",
       "      <td>NaN</td>\n",
       "    </tr>\n",
       "    <tr>\n",
       "      <th>209</th>\n",
       "      <td>Twin Falls ID (Idaho United States)</td>\n",
       "      <td>27</td>\n",
       "      <td>209</td>\n",
       "      <td>NaN</td>\n",
       "      <td>NaN</td>\n",
       "    </tr>\n",
       "    <tr>\n",
       "      <th>210</th>\n",
       "      <td>Laredo TX (Texas United States)</td>\n",
       "      <td>24</td>\n",
       "      <td>210</td>\n",
       "      <td>NaN</td>\n",
       "      <td>NaN</td>\n",
       "    </tr>\n",
       "  </tbody>\n",
       "</table>\n",
       "<p>211 rows × 5 columns</p>\n",
       "</div>"
      ],
      "text/plain": [
       "    Indexed search interest in 'health care' from May 2 to May 4, 2017. 100 is the max value, and every number is relative to that.  \\\n",
       "0                                    Metropolitan Area                                                                                \n",
       "1                    Helena MT (Montana United States)                                                                                \n",
       "2                      Bangor ME (Maine United States)                                                                                \n",
       "3                 Jackson TN (Tennessee United States)                                                                                \n",
       "4                    Utica NY (New York United States)                                                                                \n",
       "..                                                 ...                                                                                \n",
       "206                 Alpena MI (Michigan United States)                                                                                \n",
       "207            Odessa-Midland TX (Texas United States)                                                                                \n",
       "208            Corpus Christi TX (Texas United States)                                                                                \n",
       "209                Twin Falls ID (Idaho United States)                                                                                \n",
       "210                    Laredo TX (Texas United States)                                                                                \n",
       "\n",
       "       Unnamed: 1 Unnamed: 2  Unnamed: 3 Unnamed: 4  \n",
       "0    Search Value       Rank         NaN             \n",
       "1             100          1         NaN        NaN  \n",
       "2              95          2         NaN        NaN  \n",
       "3              95          3         NaN        NaN  \n",
       "4              86          4         NaN        NaN  \n",
       "..            ...        ...         ...        ...  \n",
       "206            35        206         NaN        NaN  \n",
       "207            33        207         NaN        NaN  \n",
       "208            32        208         NaN        NaN  \n",
       "209            27        209         NaN        NaN  \n",
       "210            24        210         NaN        NaN  \n",
       "\n",
       "[211 rows x 5 columns]"
      ]
     },
     "execution_count": 13,
     "metadata": {},
     "output_type": "execute_result"
    }
   ],
   "source": [
    "pd.read_csv(\"https://raw.githubusercontent.com/GoogleTrends/data/master/20170508_HealthCareSearchesUS.csv\")"
   ]
  },
  {
   "cell_type": "markdown",
   "id": "c99fbc8e",
   "metadata": {},
   "source": [
    "But for now, we will use our crime dataset."
   ]
  },
  {
   "cell_type": "markdown",
   "id": "b28d1592",
   "metadata": {},
   "source": [
    "## Describe our data"
   ]
  },
  {
   "cell_type": "markdown",
   "id": "c0f59750",
   "metadata": {},
   "source": [
    "This will get us a list of our columns (aka our features)."
   ]
  },
  {
   "cell_type": "code",
   "execution_count": 15,
   "id": "c1ec063a",
   "metadata": {},
   "outputs": [
    {
     "data": {
      "text/plain": [
       "Index(['Incident ID', 'Offence Code', 'CR Number', 'Dispatch Date / Time',\n",
       "       'NIBRS Code', 'Victims', 'Crime Name1', 'Crime Name2', 'Crime Name3',\n",
       "       'Police District Name', 'Block Address', 'City', 'State', 'Zip Code',\n",
       "       'Agency', 'Place', 'Sector', 'Beat', 'PRA', 'Address Number',\n",
       "       'Street Prefix', 'Street Name', 'Street Suffix', 'Street Type',\n",
       "       'Start_Date_Time', 'End_Date_Time', 'Latitude', 'Longitude',\n",
       "       'Police District Number', 'Location'],\n",
       "      dtype='object')"
      ]
     },
     "execution_count": 15,
     "metadata": {},
     "output_type": "execute_result"
    }
   ],
   "source": [
    "df.columns"
   ]
  },
  {
   "cell_type": "markdown",
   "id": "cedbcc7e",
   "metadata": {},
   "source": [
    "If we want to see our features *and* their data types, we can use the following:"
   ]
  },
  {
   "cell_type": "code",
   "execution_count": 16,
   "id": "8c494800",
   "metadata": {},
   "outputs": [
    {
     "data": {
      "text/plain": [
       "Incident ID                 int64\n",
       "Offence Code               object\n",
       "CR Number                   int64\n",
       "Dispatch Date / Time       object\n",
       "NIBRS Code                 object\n",
       "Victims                     int64\n",
       "Crime Name1                object\n",
       "Crime Name2                object\n",
       "Crime Name3                object\n",
       "Police District Name       object\n",
       "Block Address              object\n",
       "City                       object\n",
       "State                      object\n",
       "Zip Code                  float64\n",
       "Agency                     object\n",
       "Place                      object\n",
       "Sector                     object\n",
       "Beat                       object\n",
       "PRA                        object\n",
       "Address Number            float64\n",
       "Street Prefix              object\n",
       "Street Name                object\n",
       "Street Suffix              object\n",
       "Street Type                object\n",
       "Start_Date_Time            object\n",
       "End_Date_Time              object\n",
       "Latitude                  float64\n",
       "Longitude                 float64\n",
       "Police District Number     object\n",
       "Location                   object\n",
       "dtype: object"
      ]
     },
     "execution_count": 16,
     "metadata": {},
     "output_type": "execute_result"
    }
   ],
   "source": [
    "df.dtypes"
   ]
  },
  {
   "cell_type": "markdown",
   "id": "73cadd42",
   "metadata": {},
   "source": [
    "This gives information in the index values."
   ]
  },
  {
   "cell_type": "code",
   "execution_count": 18,
   "id": "4a88751c",
   "metadata": {},
   "outputs": [
    {
     "data": {
      "text/plain": [
       "RangeIndex(start=0, stop=306094, step=1)"
      ]
     },
     "execution_count": 18,
     "metadata": {},
     "output_type": "execute_result"
    }
   ],
   "source": [
    "df.index"
   ]
  },
  {
   "cell_type": "markdown",
   "id": "9ae64d64",
   "metadata": {},
   "source": [
    "Information on the 'shape' of our data. The first value is the number of rows (how many items we have). The second value is the number of columns (how many features we have)."
   ]
  },
  {
   "cell_type": "code",
   "execution_count": 19,
   "id": "ed1abfb5",
   "metadata": {},
   "outputs": [
    {
     "data": {
      "text/plain": [
       "(306094, 30)"
      ]
     },
     "execution_count": 19,
     "metadata": {},
     "output_type": "execute_result"
    }
   ],
   "source": [
    "df.shape"
   ]
  },
  {
   "cell_type": "markdown",
   "id": "422e4f03",
   "metadata": {},
   "source": [
    "The following gives a quick overview of our data. The count, mean, standard deviation, etc... of each column. Notice how we only see information on 7 columns when we have 30 total. This can only show information on the numerical columns."
   ]
  },
  {
   "cell_type": "code",
   "execution_count": 20,
   "id": "db4b5e86",
   "metadata": {},
   "outputs": [
    {
     "data": {
      "text/html": [
       "<div>\n",
       "<style scoped>\n",
       "    .dataframe tbody tr th:only-of-type {\n",
       "        vertical-align: middle;\n",
       "    }\n",
       "\n",
       "    .dataframe tbody tr th {\n",
       "        vertical-align: top;\n",
       "    }\n",
       "\n",
       "    .dataframe thead th {\n",
       "        text-align: right;\n",
       "    }\n",
       "</style>\n",
       "<table border=\"1\" class=\"dataframe\">\n",
       "  <thead>\n",
       "    <tr style=\"text-align: right;\">\n",
       "      <th></th>\n",
       "      <th>Incident ID</th>\n",
       "      <th>CR Number</th>\n",
       "      <th>Victims</th>\n",
       "      <th>Zip Code</th>\n",
       "      <th>Address Number</th>\n",
       "      <th>Latitude</th>\n",
       "      <th>Longitude</th>\n",
       "    </tr>\n",
       "  </thead>\n",
       "  <tbody>\n",
       "    <tr>\n",
       "      <th>count</th>\n",
       "      <td>3.060940e+05</td>\n",
       "      <td>3.060940e+05</td>\n",
       "      <td>306094.000000</td>\n",
       "      <td>302915.000000</td>\n",
       "      <td>2.799850e+05</td>\n",
       "      <td>306094.000000</td>\n",
       "      <td>306094.000000</td>\n",
       "    </tr>\n",
       "    <tr>\n",
       "      <th>mean</th>\n",
       "      <td>2.012369e+08</td>\n",
       "      <td>1.692787e+08</td>\n",
       "      <td>1.022692</td>\n",
       "      <td>20876.535939</td>\n",
       "      <td>8.393001e+03</td>\n",
       "      <td>38.146328</td>\n",
       "      <td>-75.269490</td>\n",
       "    </tr>\n",
       "    <tr>\n",
       "      <th>std</th>\n",
       "      <td>8.626185e+04</td>\n",
       "      <td>6.210304e+07</td>\n",
       "      <td>0.192311</td>\n",
       "      <td>170.157722</td>\n",
       "      <td>1.526296e+04</td>\n",
       "      <td>5.974082</td>\n",
       "      <td>11.786118</td>\n",
       "    </tr>\n",
       "    <tr>\n",
       "      <th>min</th>\n",
       "      <td>2.010871e+08</td>\n",
       "      <td>1.001107e+07</td>\n",
       "      <td>1.000000</td>\n",
       "      <td>6.000000</td>\n",
       "      <td>1.000000e+00</td>\n",
       "      <td>0.000000</td>\n",
       "      <td>-77.516753</td>\n",
       "    </tr>\n",
       "    <tr>\n",
       "      <th>25%</th>\n",
       "      <td>2.011625e+08</td>\n",
       "      <td>1.705431e+08</td>\n",
       "      <td>1.000000</td>\n",
       "      <td>20853.000000</td>\n",
       "      <td>1.600000e+03</td>\n",
       "      <td>39.020392</td>\n",
       "      <td>-77.197117</td>\n",
       "    </tr>\n",
       "    <tr>\n",
       "      <th>50%</th>\n",
       "      <td>2.012361e+08</td>\n",
       "      <td>1.900183e+08</td>\n",
       "      <td>1.000000</td>\n",
       "      <td>20878.000000</td>\n",
       "      <td>8.100000e+03</td>\n",
       "      <td>39.072844</td>\n",
       "      <td>-77.099464</td>\n",
       "    </tr>\n",
       "    <tr>\n",
       "      <th>75%</th>\n",
       "      <td>2.013109e+08</td>\n",
       "      <td>2.000466e+08</td>\n",
       "      <td>1.000000</td>\n",
       "      <td>20904.000000</td>\n",
       "      <td>1.250000e+04</td>\n",
       "      <td>39.142072</td>\n",
       "      <td>-77.029046</td>\n",
       "    </tr>\n",
       "    <tr>\n",
       "      <th>max</th>\n",
       "      <td>2.013872e+08</td>\n",
       "      <td>2.204211e+08</td>\n",
       "      <td>22.000000</td>\n",
       "      <td>29882.000000</td>\n",
       "      <td>2.090600e+06</td>\n",
       "      <td>90.000000</td>\n",
       "      <td>0.000000</td>\n",
       "    </tr>\n",
       "  </tbody>\n",
       "</table>\n",
       "</div>"
      ],
      "text/plain": [
       "        Incident ID     CR Number        Victims       Zip Code  \\\n",
       "count  3.060940e+05  3.060940e+05  306094.000000  302915.000000   \n",
       "mean   2.012369e+08  1.692787e+08       1.022692   20876.535939   \n",
       "std    8.626185e+04  6.210304e+07       0.192311     170.157722   \n",
       "min    2.010871e+08  1.001107e+07       1.000000       6.000000   \n",
       "25%    2.011625e+08  1.705431e+08       1.000000   20853.000000   \n",
       "50%    2.012361e+08  1.900183e+08       1.000000   20878.000000   \n",
       "75%    2.013109e+08  2.000466e+08       1.000000   20904.000000   \n",
       "max    2.013872e+08  2.204211e+08      22.000000   29882.000000   \n",
       "\n",
       "       Address Number       Latitude      Longitude  \n",
       "count    2.799850e+05  306094.000000  306094.000000  \n",
       "mean     8.393001e+03      38.146328     -75.269490  \n",
       "std      1.526296e+04       5.974082      11.786118  \n",
       "min      1.000000e+00       0.000000     -77.516753  \n",
       "25%      1.600000e+03      39.020392     -77.197117  \n",
       "50%      8.100000e+03      39.072844     -77.099464  \n",
       "75%      1.250000e+04      39.142072     -77.029046  \n",
       "max      2.090600e+06      90.000000       0.000000  "
      ]
     },
     "execution_count": 20,
     "metadata": {},
     "output_type": "execute_result"
    }
   ],
   "source": [
    "df.describe()"
   ]
  },
  {
   "cell_type": "markdown",
   "id": "6fc9d140",
   "metadata": {},
   "source": [
    "## How to view and select data"
   ]
  },
  {
   "cell_type": "markdown",
   "id": "c42570c9",
   "metadata": {},
   "source": [
    "To start, the below allows us to quickly view the first five entries."
   ]
  },
  {
   "cell_type": "code",
   "execution_count": 25,
   "id": "71fcb810",
   "metadata": {},
   "outputs": [
    {
     "data": {
      "text/html": [
       "<div>\n",
       "<style scoped>\n",
       "    .dataframe tbody tr th:only-of-type {\n",
       "        vertical-align: middle;\n",
       "    }\n",
       "\n",
       "    .dataframe tbody tr th {\n",
       "        vertical-align: top;\n",
       "    }\n",
       "\n",
       "    .dataframe thead th {\n",
       "        text-align: right;\n",
       "    }\n",
       "</style>\n",
       "<table border=\"1\" class=\"dataframe\">\n",
       "  <thead>\n",
       "    <tr style=\"text-align: right;\">\n",
       "      <th></th>\n",
       "      <th>Incident ID</th>\n",
       "      <th>Offence Code</th>\n",
       "      <th>CR Number</th>\n",
       "      <th>Dispatch Date / Time</th>\n",
       "      <th>NIBRS Code</th>\n",
       "      <th>Victims</th>\n",
       "      <th>Crime Name1</th>\n",
       "      <th>Crime Name2</th>\n",
       "      <th>Crime Name3</th>\n",
       "      <th>Police District Name</th>\n",
       "      <th>...</th>\n",
       "      <th>Street Prefix</th>\n",
       "      <th>Street Name</th>\n",
       "      <th>Street Suffix</th>\n",
       "      <th>Street Type</th>\n",
       "      <th>Start_Date_Time</th>\n",
       "      <th>End_Date_Time</th>\n",
       "      <th>Latitude</th>\n",
       "      <th>Longitude</th>\n",
       "      <th>Police District Number</th>\n",
       "      <th>Location</th>\n",
       "    </tr>\n",
       "  </thead>\n",
       "  <tbody>\n",
       "    <tr>\n",
       "      <th>0</th>\n",
       "      <td>201202980</td>\n",
       "      <td>3550</td>\n",
       "      <td>180042096</td>\n",
       "      <td>08/23/2018 09:52:08 PM</td>\n",
       "      <td>35B</td>\n",
       "      <td>1</td>\n",
       "      <td>Crime Against Society</td>\n",
       "      <td>Drug Equipment Violations</td>\n",
       "      <td>DRUGS - NARCOTIC EQUIP - POSSESS</td>\n",
       "      <td>GERMANTOWN</td>\n",
       "      <td>...</td>\n",
       "      <td>NaN</td>\n",
       "      <td>MIDDLEBROOK</td>\n",
       "      <td>NaN</td>\n",
       "      <td>RD</td>\n",
       "      <td>08/23/2018 09:52:00 PM</td>\n",
       "      <td>NaN</td>\n",
       "      <td>39.177744</td>\n",
       "      <td>-77.265619</td>\n",
       "      <td>5D</td>\n",
       "      <td>(39.1777, -77.2656)</td>\n",
       "    </tr>\n",
       "    <tr>\n",
       "      <th>1</th>\n",
       "      <td>201181293</td>\n",
       "      <td>3522</td>\n",
       "      <td>180015424</td>\n",
       "      <td>03/30/2018 01:00:55 AM</td>\n",
       "      <td>35A</td>\n",
       "      <td>1</td>\n",
       "      <td>Crime Against Society</td>\n",
       "      <td>Drug/Narcotic Violations</td>\n",
       "      <td>DRUGS - OPIUM OR DERIVATIVE - POSSESS</td>\n",
       "      <td>BETHESDA</td>\n",
       "      <td>...</td>\n",
       "      <td>NaN</td>\n",
       "      <td>WOODMONT</td>\n",
       "      <td>NaN</td>\n",
       "      <td>AVE</td>\n",
       "      <td>03/30/2018 01:01:00 AM</td>\n",
       "      <td>NaN</td>\n",
       "      <td>38.992693</td>\n",
       "      <td>-77.097063</td>\n",
       "      <td>2D</td>\n",
       "      <td>(38.9927, -77.0971)</td>\n",
       "    </tr>\n",
       "    <tr>\n",
       "      <th>2</th>\n",
       "      <td>201181293</td>\n",
       "      <td>3562</td>\n",
       "      <td>180015424</td>\n",
       "      <td>03/30/2018 01:00:55 AM</td>\n",
       "      <td>35A</td>\n",
       "      <td>1</td>\n",
       "      <td>Crime Against Society</td>\n",
       "      <td>Drug/Narcotic Violations</td>\n",
       "      <td>DRUGS - MARIJUANA - POSSESS</td>\n",
       "      <td>BETHESDA</td>\n",
       "      <td>...</td>\n",
       "      <td>NaN</td>\n",
       "      <td>WOODMONT</td>\n",
       "      <td>NaN</td>\n",
       "      <td>AVE</td>\n",
       "      <td>03/30/2018 01:01:00 AM</td>\n",
       "      <td>NaN</td>\n",
       "      <td>38.992693</td>\n",
       "      <td>-77.097063</td>\n",
       "      <td>2D</td>\n",
       "      <td>(38.9927, -77.0971)</td>\n",
       "    </tr>\n",
       "    <tr>\n",
       "      <th>3</th>\n",
       "      <td>201193163</td>\n",
       "      <td>3520</td>\n",
       "      <td>180029476</td>\n",
       "      <td>06/14/2018 10:26:45 PM</td>\n",
       "      <td>35A</td>\n",
       "      <td>1</td>\n",
       "      <td>Crime Against Society</td>\n",
       "      <td>Drug/Narcotic Violations</td>\n",
       "      <td>DRUGS - OPIUM OR DERIVATIVE - SELL</td>\n",
       "      <td>MONTGOMERY VILLAGE</td>\n",
       "      <td>...</td>\n",
       "      <td>NaN</td>\n",
       "      <td>QUINCE ORCHARD</td>\n",
       "      <td>NaN</td>\n",
       "      <td>RD</td>\n",
       "      <td>06/14/2018 10:26:00 PM</td>\n",
       "      <td>06/15/2018 03:00:00 AM</td>\n",
       "      <td>39.147954</td>\n",
       "      <td>-77.218189</td>\n",
       "      <td>6D</td>\n",
       "      <td>(39.148, -77.2182)</td>\n",
       "    </tr>\n",
       "    <tr>\n",
       "      <th>4</th>\n",
       "      <td>201204355</td>\n",
       "      <td>2204</td>\n",
       "      <td>180043926</td>\n",
       "      <td>09/03/2018 12:06:54 PM</td>\n",
       "      <td>220</td>\n",
       "      <td>1</td>\n",
       "      <td>Crime Against Property</td>\n",
       "      <td>Burglary/Breaking and Entering</td>\n",
       "      <td>BURGLARY - NO FORCED ENTRY-RESIDENTIAL</td>\n",
       "      <td>BETHESDA</td>\n",
       "      <td>...</td>\n",
       "      <td>NaN</td>\n",
       "      <td>FALSTONE</td>\n",
       "      <td>NaN</td>\n",
       "      <td>AVE</td>\n",
       "      <td>09/02/2018 11:30:00 PM</td>\n",
       "      <td>09/03/2018 12:30:00 AM</td>\n",
       "      <td>38.966174</td>\n",
       "      <td>-77.096561</td>\n",
       "      <td>2D</td>\n",
       "      <td>(38.9662, -77.0966)</td>\n",
       "    </tr>\n",
       "  </tbody>\n",
       "</table>\n",
       "<p>5 rows × 30 columns</p>\n",
       "</div>"
      ],
      "text/plain": [
       "   Incident ID Offence Code  CR Number    Dispatch Date / Time NIBRS Code  \\\n",
       "0    201202980         3550  180042096  08/23/2018 09:52:08 PM        35B   \n",
       "1    201181293         3522  180015424  03/30/2018 01:00:55 AM        35A   \n",
       "2    201181293         3562  180015424  03/30/2018 01:00:55 AM        35A   \n",
       "3    201193163         3520  180029476  06/14/2018 10:26:45 PM        35A   \n",
       "4    201204355         2204  180043926  09/03/2018 12:06:54 PM        220   \n",
       "\n",
       "   Victims             Crime Name1                     Crime Name2  \\\n",
       "0        1   Crime Against Society       Drug Equipment Violations   \n",
       "1        1   Crime Against Society        Drug/Narcotic Violations   \n",
       "2        1   Crime Against Society        Drug/Narcotic Violations   \n",
       "3        1   Crime Against Society        Drug/Narcotic Violations   \n",
       "4        1  Crime Against Property  Burglary/Breaking and Entering   \n",
       "\n",
       "                              Crime Name3 Police District Name  ...  \\\n",
       "0        DRUGS - NARCOTIC EQUIP - POSSESS           GERMANTOWN  ...   \n",
       "1   DRUGS - OPIUM OR DERIVATIVE - POSSESS             BETHESDA  ...   \n",
       "2             DRUGS - MARIJUANA - POSSESS             BETHESDA  ...   \n",
       "3      DRUGS - OPIUM OR DERIVATIVE - SELL   MONTGOMERY VILLAGE  ...   \n",
       "4  BURGLARY - NO FORCED ENTRY-RESIDENTIAL             BETHESDA  ...   \n",
       "\n",
       "  Street Prefix     Street Name Street Suffix  Street Type  \\\n",
       "0           NaN     MIDDLEBROOK           NaN           RD   \n",
       "1           NaN        WOODMONT           NaN          AVE   \n",
       "2           NaN        WOODMONT           NaN          AVE   \n",
       "3           NaN  QUINCE ORCHARD           NaN           RD   \n",
       "4           NaN        FALSTONE           NaN          AVE   \n",
       "\n",
       "          Start_Date_Time           End_Date_Time   Latitude  Longitude  \\\n",
       "0  08/23/2018 09:52:00 PM                     NaN  39.177744 -77.265619   \n",
       "1  03/30/2018 01:01:00 AM                     NaN  38.992693 -77.097063   \n",
       "2  03/30/2018 01:01:00 AM                     NaN  38.992693 -77.097063   \n",
       "3  06/14/2018 10:26:00 PM  06/15/2018 03:00:00 AM  39.147954 -77.218189   \n",
       "4  09/02/2018 11:30:00 PM  09/03/2018 12:30:00 AM  38.966174 -77.096561   \n",
       "\n",
       "  Police District Number             Location  \n",
       "0                     5D  (39.1777, -77.2656)  \n",
       "1                     2D  (38.9927, -77.0971)  \n",
       "2                     2D  (38.9927, -77.0971)  \n",
       "3                     6D   (39.148, -77.2182)  \n",
       "4                     2D  (38.9662, -77.0966)  \n",
       "\n",
       "[5 rows x 30 columns]"
      ]
     },
     "execution_count": 25,
     "metadata": {},
     "output_type": "execute_result"
    }
   ],
   "source": [
    "df.head()"
   ]
  },
  {
   "cell_type": "markdown",
   "id": "aab69f8c",
   "metadata": {},
   "source": [
    "Let's say we only want to view three:"
   ]
  },
  {
   "cell_type": "code",
   "execution_count": 26,
   "id": "50a0c72e",
   "metadata": {},
   "outputs": [
    {
     "data": {
      "text/html": [
       "<div>\n",
       "<style scoped>\n",
       "    .dataframe tbody tr th:only-of-type {\n",
       "        vertical-align: middle;\n",
       "    }\n",
       "\n",
       "    .dataframe tbody tr th {\n",
       "        vertical-align: top;\n",
       "    }\n",
       "\n",
       "    .dataframe thead th {\n",
       "        text-align: right;\n",
       "    }\n",
       "</style>\n",
       "<table border=\"1\" class=\"dataframe\">\n",
       "  <thead>\n",
       "    <tr style=\"text-align: right;\">\n",
       "      <th></th>\n",
       "      <th>Incident ID</th>\n",
       "      <th>Offence Code</th>\n",
       "      <th>CR Number</th>\n",
       "      <th>Dispatch Date / Time</th>\n",
       "      <th>NIBRS Code</th>\n",
       "      <th>Victims</th>\n",
       "      <th>Crime Name1</th>\n",
       "      <th>Crime Name2</th>\n",
       "      <th>Crime Name3</th>\n",
       "      <th>Police District Name</th>\n",
       "      <th>...</th>\n",
       "      <th>Street Prefix</th>\n",
       "      <th>Street Name</th>\n",
       "      <th>Street Suffix</th>\n",
       "      <th>Street Type</th>\n",
       "      <th>Start_Date_Time</th>\n",
       "      <th>End_Date_Time</th>\n",
       "      <th>Latitude</th>\n",
       "      <th>Longitude</th>\n",
       "      <th>Police District Number</th>\n",
       "      <th>Location</th>\n",
       "    </tr>\n",
       "  </thead>\n",
       "  <tbody>\n",
       "    <tr>\n",
       "      <th>0</th>\n",
       "      <td>201202980</td>\n",
       "      <td>3550</td>\n",
       "      <td>180042096</td>\n",
       "      <td>08/23/2018 09:52:08 PM</td>\n",
       "      <td>35B</td>\n",
       "      <td>1</td>\n",
       "      <td>Crime Against Society</td>\n",
       "      <td>Drug Equipment Violations</td>\n",
       "      <td>DRUGS - NARCOTIC EQUIP - POSSESS</td>\n",
       "      <td>GERMANTOWN</td>\n",
       "      <td>...</td>\n",
       "      <td>NaN</td>\n",
       "      <td>MIDDLEBROOK</td>\n",
       "      <td>NaN</td>\n",
       "      <td>RD</td>\n",
       "      <td>08/23/2018 09:52:00 PM</td>\n",
       "      <td>NaN</td>\n",
       "      <td>39.177744</td>\n",
       "      <td>-77.265619</td>\n",
       "      <td>5D</td>\n",
       "      <td>(39.1777, -77.2656)</td>\n",
       "    </tr>\n",
       "    <tr>\n",
       "      <th>1</th>\n",
       "      <td>201181293</td>\n",
       "      <td>3522</td>\n",
       "      <td>180015424</td>\n",
       "      <td>03/30/2018 01:00:55 AM</td>\n",
       "      <td>35A</td>\n",
       "      <td>1</td>\n",
       "      <td>Crime Against Society</td>\n",
       "      <td>Drug/Narcotic Violations</td>\n",
       "      <td>DRUGS - OPIUM OR DERIVATIVE - POSSESS</td>\n",
       "      <td>BETHESDA</td>\n",
       "      <td>...</td>\n",
       "      <td>NaN</td>\n",
       "      <td>WOODMONT</td>\n",
       "      <td>NaN</td>\n",
       "      <td>AVE</td>\n",
       "      <td>03/30/2018 01:01:00 AM</td>\n",
       "      <td>NaN</td>\n",
       "      <td>38.992693</td>\n",
       "      <td>-77.097063</td>\n",
       "      <td>2D</td>\n",
       "      <td>(38.9927, -77.0971)</td>\n",
       "    </tr>\n",
       "    <tr>\n",
       "      <th>2</th>\n",
       "      <td>201181293</td>\n",
       "      <td>3562</td>\n",
       "      <td>180015424</td>\n",
       "      <td>03/30/2018 01:00:55 AM</td>\n",
       "      <td>35A</td>\n",
       "      <td>1</td>\n",
       "      <td>Crime Against Society</td>\n",
       "      <td>Drug/Narcotic Violations</td>\n",
       "      <td>DRUGS - MARIJUANA - POSSESS</td>\n",
       "      <td>BETHESDA</td>\n",
       "      <td>...</td>\n",
       "      <td>NaN</td>\n",
       "      <td>WOODMONT</td>\n",
       "      <td>NaN</td>\n",
       "      <td>AVE</td>\n",
       "      <td>03/30/2018 01:01:00 AM</td>\n",
       "      <td>NaN</td>\n",
       "      <td>38.992693</td>\n",
       "      <td>-77.097063</td>\n",
       "      <td>2D</td>\n",
       "      <td>(38.9927, -77.0971)</td>\n",
       "    </tr>\n",
       "  </tbody>\n",
       "</table>\n",
       "<p>3 rows × 30 columns</p>\n",
       "</div>"
      ],
      "text/plain": [
       "   Incident ID Offence Code  CR Number    Dispatch Date / Time NIBRS Code  \\\n",
       "0    201202980         3550  180042096  08/23/2018 09:52:08 PM        35B   \n",
       "1    201181293         3522  180015424  03/30/2018 01:00:55 AM        35A   \n",
       "2    201181293         3562  180015424  03/30/2018 01:00:55 AM        35A   \n",
       "\n",
       "   Victims            Crime Name1                Crime Name2  \\\n",
       "0        1  Crime Against Society  Drug Equipment Violations   \n",
       "1        1  Crime Against Society   Drug/Narcotic Violations   \n",
       "2        1  Crime Against Society   Drug/Narcotic Violations   \n",
       "\n",
       "                             Crime Name3 Police District Name  ...  \\\n",
       "0       DRUGS - NARCOTIC EQUIP - POSSESS           GERMANTOWN  ...   \n",
       "1  DRUGS - OPIUM OR DERIVATIVE - POSSESS             BETHESDA  ...   \n",
       "2            DRUGS - MARIJUANA - POSSESS             BETHESDA  ...   \n",
       "\n",
       "  Street Prefix  Street Name Street Suffix  Street Type  \\\n",
       "0           NaN  MIDDLEBROOK           NaN           RD   \n",
       "1           NaN     WOODMONT           NaN          AVE   \n",
       "2           NaN     WOODMONT           NaN          AVE   \n",
       "\n",
       "          Start_Date_Time End_Date_Time   Latitude  Longitude  \\\n",
       "0  08/23/2018 09:52:00 PM           NaN  39.177744 -77.265619   \n",
       "1  03/30/2018 01:01:00 AM           NaN  38.992693 -77.097063   \n",
       "2  03/30/2018 01:01:00 AM           NaN  38.992693 -77.097063   \n",
       "\n",
       "  Police District Number             Location  \n",
       "0                     5D  (39.1777, -77.2656)  \n",
       "1                     2D  (38.9927, -77.0971)  \n",
       "2                     2D  (38.9927, -77.0971)  \n",
       "\n",
       "[3 rows x 30 columns]"
      ]
     },
     "execution_count": 26,
     "metadata": {},
     "output_type": "execute_result"
    }
   ],
   "source": [
    "df.head(3)"
   ]
  },
  {
   "cell_type": "markdown",
   "id": "d2ada335",
   "metadata": {},
   "source": [
    "Or we only want to view the last five:"
   ]
  },
  {
   "cell_type": "code",
   "execution_count": 27,
   "id": "46752bab",
   "metadata": {},
   "outputs": [
    {
     "data": {
      "text/html": [
       "<div>\n",
       "<style scoped>\n",
       "    .dataframe tbody tr th:only-of-type {\n",
       "        vertical-align: middle;\n",
       "    }\n",
       "\n",
       "    .dataframe tbody tr th {\n",
       "        vertical-align: top;\n",
       "    }\n",
       "\n",
       "    .dataframe thead th {\n",
       "        text-align: right;\n",
       "    }\n",
       "</style>\n",
       "<table border=\"1\" class=\"dataframe\">\n",
       "  <thead>\n",
       "    <tr style=\"text-align: right;\">\n",
       "      <th></th>\n",
       "      <th>Incident ID</th>\n",
       "      <th>Offence Code</th>\n",
       "      <th>CR Number</th>\n",
       "      <th>Dispatch Date / Time</th>\n",
       "      <th>NIBRS Code</th>\n",
       "      <th>Victims</th>\n",
       "      <th>Crime Name1</th>\n",
       "      <th>Crime Name2</th>\n",
       "      <th>Crime Name3</th>\n",
       "      <th>Police District Name</th>\n",
       "      <th>...</th>\n",
       "      <th>Street Prefix</th>\n",
       "      <th>Street Name</th>\n",
       "      <th>Street Suffix</th>\n",
       "      <th>Street Type</th>\n",
       "      <th>Start_Date_Time</th>\n",
       "      <th>End_Date_Time</th>\n",
       "      <th>Latitude</th>\n",
       "      <th>Longitude</th>\n",
       "      <th>Police District Number</th>\n",
       "      <th>Location</th>\n",
       "    </tr>\n",
       "  </thead>\n",
       "  <tbody>\n",
       "    <tr>\n",
       "      <th>306089</th>\n",
       "      <td>201320571</td>\n",
       "      <td>1399</td>\n",
       "      <td>210006666</td>\n",
       "      <td>02/21/2021 07:25:28 AM</td>\n",
       "      <td>13B</td>\n",
       "      <td>1</td>\n",
       "      <td>Crime Against Person</td>\n",
       "      <td>Simple Assault</td>\n",
       "      <td>ASSAULT - 2ND DEGREE</td>\n",
       "      <td>MONTGOMERY VILLAGE</td>\n",
       "      <td>...</td>\n",
       "      <td>NaN</td>\n",
       "      <td>TRANSHIRE</td>\n",
       "      <td>NaN</td>\n",
       "      <td>RD</td>\n",
       "      <td>02/20/2021 08:00:00 PM</td>\n",
       "      <td>NaN</td>\n",
       "      <td>39.172701</td>\n",
       "      <td>-77.197340</td>\n",
       "      <td>6D</td>\n",
       "      <td>(39.1727, -77.1973)</td>\n",
       "    </tr>\n",
       "    <tr>\n",
       "      <th>306090</th>\n",
       "      <td>201329875</td>\n",
       "      <td>2305</td>\n",
       "      <td>210017101</td>\n",
       "      <td>05/06/2021 10:54:47 PM</td>\n",
       "      <td>23F</td>\n",
       "      <td>1</td>\n",
       "      <td>Crime Against Property</td>\n",
       "      <td>Theft From Motor Vehicle</td>\n",
       "      <td>LARCENY - FROM AUTO</td>\n",
       "      <td>WHEATON</td>\n",
       "      <td>...</td>\n",
       "      <td>NaN</td>\n",
       "      <td>ATHERTON</td>\n",
       "      <td>NaN</td>\n",
       "      <td>DR</td>\n",
       "      <td>05/06/2021 03:15:00 AM</td>\n",
       "      <td>NaN</td>\n",
       "      <td>39.059672</td>\n",
       "      <td>-77.075995</td>\n",
       "      <td>4D</td>\n",
       "      <td>(39.0597, -77.076)</td>\n",
       "    </tr>\n",
       "    <tr>\n",
       "      <th>306091</th>\n",
       "      <td>201329751</td>\n",
       "      <td>5016</td>\n",
       "      <td>210016952</td>\n",
       "      <td>05/05/2021 10:38:58 PM</td>\n",
       "      <td>90Z</td>\n",
       "      <td>1</td>\n",
       "      <td>Crime Against Society</td>\n",
       "      <td>All Other Offenses</td>\n",
       "      <td>OBSTRUCT GOVT - VIOLATION OF A COURT ORDER</td>\n",
       "      <td>GERMANTOWN</td>\n",
       "      <td>...</td>\n",
       "      <td>NaN</td>\n",
       "      <td>BALTUSROL</td>\n",
       "      <td>NaN</td>\n",
       "      <td>DR</td>\n",
       "      <td>05/05/2021 10:38:00 PM</td>\n",
       "      <td>NaN</td>\n",
       "      <td>39.199722</td>\n",
       "      <td>-77.273039</td>\n",
       "      <td>5D</td>\n",
       "      <td>(39.1997, -77.273)</td>\n",
       "    </tr>\n",
       "    <tr>\n",
       "      <th>306092</th>\n",
       "      <td>201323117</td>\n",
       "      <td>9099</td>\n",
       "      <td>210009468</td>\n",
       "      <td>03/13/2021 12:07:14 PM</td>\n",
       "      <td>90Z</td>\n",
       "      <td>1</td>\n",
       "      <td>Crime Against Society</td>\n",
       "      <td>All Other Offenses</td>\n",
       "      <td>ALL OTHER OFFENSES</td>\n",
       "      <td>SILVER SPRING</td>\n",
       "      <td>...</td>\n",
       "      <td>NaN</td>\n",
       "      <td>FENTON</td>\n",
       "      <td>NaN</td>\n",
       "      <td>ST</td>\n",
       "      <td>03/13/2021 01:35:00 PM</td>\n",
       "      <td>NaN</td>\n",
       "      <td>38.985813</td>\n",
       "      <td>-77.022915</td>\n",
       "      <td>3D</td>\n",
       "      <td>(38.9858, -77.0229)</td>\n",
       "    </tr>\n",
       "    <tr>\n",
       "      <th>306093</th>\n",
       "      <td>201327806</td>\n",
       "      <td>2305</td>\n",
       "      <td>210014587</td>\n",
       "      <td>04/19/2021 02:17:29 PM</td>\n",
       "      <td>23F</td>\n",
       "      <td>1</td>\n",
       "      <td>Crime Against Property</td>\n",
       "      <td>Theft From Motor Vehicle</td>\n",
       "      <td>LARCENY - FROM AUTO</td>\n",
       "      <td>BETHESDA</td>\n",
       "      <td>...</td>\n",
       "      <td>NaN</td>\n",
       "      <td>NEWPORT MILL</td>\n",
       "      <td>NaN</td>\n",
       "      <td>RD</td>\n",
       "      <td>04/18/2021 04:00:00 PM</td>\n",
       "      <td>04/19/2021 12:00:00 PM</td>\n",
       "      <td>39.037115</td>\n",
       "      <td>-77.072485</td>\n",
       "      <td>2D</td>\n",
       "      <td>(39.0371, -77.0725)</td>\n",
       "    </tr>\n",
       "  </tbody>\n",
       "</table>\n",
       "<p>5 rows × 30 columns</p>\n",
       "</div>"
      ],
      "text/plain": [
       "        Incident ID Offence Code  CR Number    Dispatch Date / Time  \\\n",
       "306089    201320571         1399  210006666  02/21/2021 07:25:28 AM   \n",
       "306090    201329875         2305  210017101  05/06/2021 10:54:47 PM   \n",
       "306091    201329751         5016  210016952  05/05/2021 10:38:58 PM   \n",
       "306092    201323117         9099  210009468  03/13/2021 12:07:14 PM   \n",
       "306093    201327806         2305  210014587  04/19/2021 02:17:29 PM   \n",
       "\n",
       "       NIBRS Code  Victims             Crime Name1               Crime Name2  \\\n",
       "306089        13B        1    Crime Against Person            Simple Assault   \n",
       "306090        23F        1  Crime Against Property  Theft From Motor Vehicle   \n",
       "306091        90Z        1   Crime Against Society        All Other Offenses   \n",
       "306092        90Z        1   Crime Against Society        All Other Offenses   \n",
       "306093        23F        1  Crime Against Property  Theft From Motor Vehicle   \n",
       "\n",
       "                                       Crime Name3 Police District Name  ...  \\\n",
       "306089                        ASSAULT - 2ND DEGREE   MONTGOMERY VILLAGE  ...   \n",
       "306090                         LARCENY - FROM AUTO              WHEATON  ...   \n",
       "306091  OBSTRUCT GOVT - VIOLATION OF A COURT ORDER           GERMANTOWN  ...   \n",
       "306092                          ALL OTHER OFFENSES        SILVER SPRING  ...   \n",
       "306093                         LARCENY - FROM AUTO             BETHESDA  ...   \n",
       "\n",
       "       Street Prefix   Street Name Street Suffix  Street Type  \\\n",
       "306089           NaN     TRANSHIRE           NaN           RD   \n",
       "306090           NaN      ATHERTON           NaN           DR   \n",
       "306091           NaN     BALTUSROL           NaN           DR   \n",
       "306092           NaN        FENTON           NaN           ST   \n",
       "306093           NaN  NEWPORT MILL           NaN           RD   \n",
       "\n",
       "               Start_Date_Time           End_Date_Time   Latitude  Longitude  \\\n",
       "306089  02/20/2021 08:00:00 PM                     NaN  39.172701 -77.197340   \n",
       "306090  05/06/2021 03:15:00 AM                     NaN  39.059672 -77.075995   \n",
       "306091  05/05/2021 10:38:00 PM                     NaN  39.199722 -77.273039   \n",
       "306092  03/13/2021 01:35:00 PM                     NaN  38.985813 -77.022915   \n",
       "306093  04/18/2021 04:00:00 PM  04/19/2021 12:00:00 PM  39.037115 -77.072485   \n",
       "\n",
       "       Police District Number             Location  \n",
       "306089                     6D  (39.1727, -77.1973)  \n",
       "306090                     4D   (39.0597, -77.076)  \n",
       "306091                     5D   (39.1997, -77.273)  \n",
       "306092                     3D  (38.9858, -77.0229)  \n",
       "306093                     2D  (39.0371, -77.0725)  \n",
       "\n",
       "[5 rows x 30 columns]"
      ]
     },
     "execution_count": 27,
     "metadata": {},
     "output_type": "execute_result"
    }
   ],
   "source": [
    "df.tail()"
   ]
  },
  {
   "cell_type": "markdown",
   "id": "f4fe7b94",
   "metadata": {},
   "source": [
    "### The difference between `.loc` and `.iloc`"
   ]
  },
  {
   "cell_type": "markdown",
   "id": "ce4484dd",
   "metadata": {},
   "source": [
    "Let's say for some reason, our indices are not in order from zero onwards, but are more scattered."
   ]
  },
  {
   "cell_type": "code",
   "execution_count": 28,
   "id": "348e8456",
   "metadata": {},
   "outputs": [],
   "source": [
    "animals = pd.Series(['cat', 'dog', 'bird', 'frog'], index = [0, 3, 9, 8])"
   ]
  },
  {
   "cell_type": "markdown",
   "id": "29e64ca0",
   "metadata": {},
   "source": [
    "`.loc` will get us the item at **index of 3**"
   ]
  },
  {
   "cell_type": "code",
   "execution_count": 29,
   "id": "b61f6370",
   "metadata": {},
   "outputs": [
    {
     "data": {
      "text/plain": [
       "'dog'"
      ]
     },
     "execution_count": 29,
     "metadata": {},
     "output_type": "execute_result"
    }
   ],
   "source": [
    "animals.loc[3]"
   ]
  },
  {
   "cell_type": "markdown",
   "id": "b50969e4",
   "metadata": {},
   "source": [
    "`.iloc` will get us the item at the **position of 3** regardless of index values."
   ]
  },
  {
   "cell_type": "code",
   "execution_count": 30,
   "id": "0e8b7454",
   "metadata": {},
   "outputs": [
    {
     "data": {
      "text/plain": [
       "'frog'"
      ]
     },
     "execution_count": 30,
     "metadata": {},
     "output_type": "execute_result"
    }
   ],
   "source": [
    "animals.iloc[3]"
   ]
  },
  {
   "cell_type": "markdown",
   "id": "0dcfd3fc",
   "metadata": {},
   "source": [
    "On selecting multiple items (this is very similar to the practice you all got with lists):"
   ]
  },
  {
   "cell_type": "code",
   "execution_count": 34,
   "id": "afe85117",
   "metadata": {},
   "outputs": [
    {
     "data": {
      "text/plain": [
       "3     dog\n",
       "9    bird\n",
       "8    frog\n",
       "dtype: object"
      ]
     },
     "execution_count": 34,
     "metadata": {},
     "output_type": "execute_result"
    }
   ],
   "source": [
    "animals.iloc[1:]"
   ]
  },
  {
   "cell_type": "markdown",
   "id": "f3d8b6e0",
   "metadata": {},
   "source": [
    "What happens if we try to use `animals.loc[1:]`?"
   ]
  },
  {
   "cell_type": "code",
   "execution_count": 35,
   "id": "9e5f9cfe",
   "metadata": {},
   "outputs": [
    {
     "data": {
      "text/html": [
       "<div>\n",
       "<style scoped>\n",
       "    .dataframe tbody tr th:only-of-type {\n",
       "        vertical-align: middle;\n",
       "    }\n",
       "\n",
       "    .dataframe tbody tr th {\n",
       "        vertical-align: top;\n",
       "    }\n",
       "\n",
       "    .dataframe thead th {\n",
       "        text-align: right;\n",
       "    }\n",
       "</style>\n",
       "<table border=\"1\" class=\"dataframe\">\n",
       "  <thead>\n",
       "    <tr style=\"text-align: right;\">\n",
       "      <th></th>\n",
       "      <th>Incident ID</th>\n",
       "      <th>Offence Code</th>\n",
       "      <th>CR Number</th>\n",
       "      <th>Dispatch Date / Time</th>\n",
       "      <th>NIBRS Code</th>\n",
       "      <th>Victims</th>\n",
       "      <th>Crime Name1</th>\n",
       "      <th>Crime Name2</th>\n",
       "      <th>Crime Name3</th>\n",
       "      <th>Police District Name</th>\n",
       "      <th>...</th>\n",
       "      <th>Street Prefix</th>\n",
       "      <th>Street Name</th>\n",
       "      <th>Street Suffix</th>\n",
       "      <th>Street Type</th>\n",
       "      <th>Start_Date_Time</th>\n",
       "      <th>End_Date_Time</th>\n",
       "      <th>Latitude</th>\n",
       "      <th>Longitude</th>\n",
       "      <th>Police District Number</th>\n",
       "      <th>Location</th>\n",
       "    </tr>\n",
       "  </thead>\n",
       "  <tbody>\n",
       "    <tr>\n",
       "      <th>2</th>\n",
       "      <td>201181293</td>\n",
       "      <td>3562</td>\n",
       "      <td>180015424</td>\n",
       "      <td>03/30/2018 01:00:55 AM</td>\n",
       "      <td>35A</td>\n",
       "      <td>1</td>\n",
       "      <td>Crime Against Society</td>\n",
       "      <td>Drug/Narcotic Violations</td>\n",
       "      <td>DRUGS - MARIJUANA - POSSESS</td>\n",
       "      <td>BETHESDA</td>\n",
       "      <td>...</td>\n",
       "      <td>NaN</td>\n",
       "      <td>WOODMONT</td>\n",
       "      <td>NaN</td>\n",
       "      <td>AVE</td>\n",
       "      <td>03/30/2018 01:01:00 AM</td>\n",
       "      <td>NaN</td>\n",
       "      <td>38.992693</td>\n",
       "      <td>-77.097063</td>\n",
       "      <td>2D</td>\n",
       "      <td>(38.9927, -77.0971)</td>\n",
       "    </tr>\n",
       "    <tr>\n",
       "      <th>3</th>\n",
       "      <td>201193163</td>\n",
       "      <td>3520</td>\n",
       "      <td>180029476</td>\n",
       "      <td>06/14/2018 10:26:45 PM</td>\n",
       "      <td>35A</td>\n",
       "      <td>1</td>\n",
       "      <td>Crime Against Society</td>\n",
       "      <td>Drug/Narcotic Violations</td>\n",
       "      <td>DRUGS - OPIUM OR DERIVATIVE - SELL</td>\n",
       "      <td>MONTGOMERY VILLAGE</td>\n",
       "      <td>...</td>\n",
       "      <td>NaN</td>\n",
       "      <td>QUINCE ORCHARD</td>\n",
       "      <td>NaN</td>\n",
       "      <td>RD</td>\n",
       "      <td>06/14/2018 10:26:00 PM</td>\n",
       "      <td>06/15/2018 03:00:00 AM</td>\n",
       "      <td>39.147954</td>\n",
       "      <td>-77.218189</td>\n",
       "      <td>6D</td>\n",
       "      <td>(39.148, -77.2182)</td>\n",
       "    </tr>\n",
       "    <tr>\n",
       "      <th>4</th>\n",
       "      <td>201204355</td>\n",
       "      <td>2204</td>\n",
       "      <td>180043926</td>\n",
       "      <td>09/03/2018 12:06:54 PM</td>\n",
       "      <td>220</td>\n",
       "      <td>1</td>\n",
       "      <td>Crime Against Property</td>\n",
       "      <td>Burglary/Breaking and Entering</td>\n",
       "      <td>BURGLARY - NO FORCED ENTRY-RESIDENTIAL</td>\n",
       "      <td>BETHESDA</td>\n",
       "      <td>...</td>\n",
       "      <td>NaN</td>\n",
       "      <td>FALSTONE</td>\n",
       "      <td>NaN</td>\n",
       "      <td>AVE</td>\n",
       "      <td>09/02/2018 11:30:00 PM</td>\n",
       "      <td>09/03/2018 12:30:00 AM</td>\n",
       "      <td>38.966174</td>\n",
       "      <td>-77.096561</td>\n",
       "      <td>2D</td>\n",
       "      <td>(38.9662, -77.0966)</td>\n",
       "    </tr>\n",
       "    <tr>\n",
       "      <th>5</th>\n",
       "      <td>201204355</td>\n",
       "      <td>2404</td>\n",
       "      <td>180043926</td>\n",
       "      <td>09/03/2018 12:06:54 PM</td>\n",
       "      <td>240</td>\n",
       "      <td>1</td>\n",
       "      <td>Crime Against Property</td>\n",
       "      <td>Motor Vehicle Theft</td>\n",
       "      <td>AUTO THEFT - VEHICLE THEFT</td>\n",
       "      <td>BETHESDA</td>\n",
       "      <td>...</td>\n",
       "      <td>NaN</td>\n",
       "      <td>FALSTONE</td>\n",
       "      <td>NaN</td>\n",
       "      <td>AVE</td>\n",
       "      <td>09/02/2018 11:30:00 PM</td>\n",
       "      <td>09/03/2018 12:30:00 AM</td>\n",
       "      <td>38.966174</td>\n",
       "      <td>-77.096561</td>\n",
       "      <td>2D</td>\n",
       "      <td>(38.9662, -77.0966)</td>\n",
       "    </tr>\n",
       "  </tbody>\n",
       "</table>\n",
       "<p>4 rows × 30 columns</p>\n",
       "</div>"
      ],
      "text/plain": [
       "   Incident ID Offence Code  CR Number    Dispatch Date / Time NIBRS Code  \\\n",
       "2    201181293         3562  180015424  03/30/2018 01:00:55 AM        35A   \n",
       "3    201193163         3520  180029476  06/14/2018 10:26:45 PM        35A   \n",
       "4    201204355         2204  180043926  09/03/2018 12:06:54 PM        220   \n",
       "5    201204355         2404  180043926  09/03/2018 12:06:54 PM        240   \n",
       "\n",
       "   Victims             Crime Name1                     Crime Name2  \\\n",
       "2        1   Crime Against Society        Drug/Narcotic Violations   \n",
       "3        1   Crime Against Society        Drug/Narcotic Violations   \n",
       "4        1  Crime Against Property  Burglary/Breaking and Entering   \n",
       "5        1  Crime Against Property             Motor Vehicle Theft   \n",
       "\n",
       "                              Crime Name3 Police District Name  ...  \\\n",
       "2             DRUGS - MARIJUANA - POSSESS             BETHESDA  ...   \n",
       "3      DRUGS - OPIUM OR DERIVATIVE - SELL   MONTGOMERY VILLAGE  ...   \n",
       "4  BURGLARY - NO FORCED ENTRY-RESIDENTIAL             BETHESDA  ...   \n",
       "5              AUTO THEFT - VEHICLE THEFT             BETHESDA  ...   \n",
       "\n",
       "  Street Prefix     Street Name Street Suffix  Street Type  \\\n",
       "2           NaN        WOODMONT           NaN          AVE   \n",
       "3           NaN  QUINCE ORCHARD           NaN           RD   \n",
       "4           NaN        FALSTONE           NaN          AVE   \n",
       "5           NaN        FALSTONE           NaN          AVE   \n",
       "\n",
       "          Start_Date_Time           End_Date_Time   Latitude  Longitude  \\\n",
       "2  03/30/2018 01:01:00 AM                     NaN  38.992693 -77.097063   \n",
       "3  06/14/2018 10:26:00 PM  06/15/2018 03:00:00 AM  39.147954 -77.218189   \n",
       "4  09/02/2018 11:30:00 PM  09/03/2018 12:30:00 AM  38.966174 -77.096561   \n",
       "5  09/02/2018 11:30:00 PM  09/03/2018 12:30:00 AM  38.966174 -77.096561   \n",
       "\n",
       "  Police District Number             Location  \n",
       "2                     2D  (38.9927, -77.0971)  \n",
       "3                     6D   (39.148, -77.2182)  \n",
       "4                     2D  (38.9662, -77.0966)  \n",
       "5                     2D  (38.9662, -77.0966)  \n",
       "\n",
       "[4 rows x 30 columns]"
      ]
     },
     "execution_count": 35,
     "metadata": {},
     "output_type": "execute_result"
    }
   ],
   "source": [
    "df.loc[2:5]"
   ]
  },
  {
   "cell_type": "markdown",
   "id": "29c551e1",
   "metadata": {},
   "source": [
    "### Viewing a specific column"
   ]
  },
  {
   "cell_type": "code",
   "execution_count": 37,
   "id": "6f8df947",
   "metadata": {},
   "outputs": [
    {
     "data": {
      "text/plain": [
       "0                 GERMANTOWN\n",
       "1                   BETHESDA\n",
       "2                   BETHESDA\n",
       "3               GAITHERSBURG\n",
       "4                CHEVY CHASE\n",
       "                 ...        \n",
       "306089    MONTGOMERY VILLAGE\n",
       "306090         SILVER SPRING\n",
       "306091            GERMANTOWN\n",
       "306092         SILVER SPRING\n",
       "306093            KENSINGTON\n",
       "Name: City, Length: 306094, dtype: object"
      ]
     },
     "execution_count": 37,
     "metadata": {},
     "output_type": "execute_result"
    }
   ],
   "source": [
    "df['City']"
   ]
  },
  {
   "cell_type": "markdown",
   "id": "1027d03a",
   "metadata": {},
   "source": [
    "### How do we filter our data?"
   ]
  },
  {
   "cell_type": "code",
   "execution_count": 42,
   "id": "284f3170",
   "metadata": {},
   "outputs": [
    {
     "data": {
      "text/plain": [
       "Index(['Incident ID', 'Offence Code', 'CR Number', 'Dispatch Date / Time',\n",
       "       'NIBRS Code', 'Victims', 'Crime Name1', 'Crime Name2', 'Crime Name3',\n",
       "       'Police District Name', 'Block Address', 'City', 'State', 'Zip Code',\n",
       "       'Agency', 'Place', 'Sector', 'Beat', 'PRA', 'Address Number',\n",
       "       'Street Prefix', 'Street Name', 'Street Suffix', 'Street Type',\n",
       "       'Start_Date_Time', 'End_Date_Time', 'Latitude', 'Longitude',\n",
       "       'Police District Number', 'Location'],\n",
       "      dtype='object')"
      ]
     },
     "execution_count": 42,
     "metadata": {},
     "output_type": "execute_result"
    }
   ],
   "source": [
    "df.columns"
   ]
  },
  {
   "cell_type": "code",
   "execution_count": 44,
   "id": "0ce0764d",
   "metadata": {},
   "outputs": [
    {
     "data": {
      "text/plain": [
       "array(['Crime Against Society', 'Crime Against Property',\n",
       "       'Crime Against Person', 'Other', 'Not a Crime', nan], dtype=object)"
      ]
     },
     "execution_count": 44,
     "metadata": {},
     "output_type": "execute_result"
    }
   ],
   "source": [
    "df['Crime Name1'].unique()"
   ]
  },
  {
   "cell_type": "code",
   "execution_count": 45,
   "id": "c239c7ea",
   "metadata": {},
   "outputs": [],
   "source": [
    "df_crimes = df[df['Crime Name1'] != 'Not a Crime']"
   ]
  },
  {
   "cell_type": "code",
   "execution_count": 47,
   "id": "c90aba1c",
   "metadata": {
    "scrolled": true
   },
   "outputs": [
    {
     "data": {
      "text/html": [
       "<div>\n",
       "<style scoped>\n",
       "    .dataframe tbody tr th:only-of-type {\n",
       "        vertical-align: middle;\n",
       "    }\n",
       "\n",
       "    .dataframe tbody tr th {\n",
       "        vertical-align: top;\n",
       "    }\n",
       "\n",
       "    .dataframe thead th {\n",
       "        text-align: right;\n",
       "    }\n",
       "</style>\n",
       "<table border=\"1\" class=\"dataframe\">\n",
       "  <thead>\n",
       "    <tr style=\"text-align: right;\">\n",
       "      <th></th>\n",
       "      <th>Incident ID</th>\n",
       "      <th>Offence Code</th>\n",
       "      <th>CR Number</th>\n",
       "      <th>Dispatch Date / Time</th>\n",
       "      <th>NIBRS Code</th>\n",
       "      <th>Victims</th>\n",
       "      <th>Crime Name1</th>\n",
       "      <th>Crime Name2</th>\n",
       "      <th>Crime Name3</th>\n",
       "      <th>Police District Name</th>\n",
       "      <th>...</th>\n",
       "      <th>Street Prefix</th>\n",
       "      <th>Street Name</th>\n",
       "      <th>Street Suffix</th>\n",
       "      <th>Street Type</th>\n",
       "      <th>Start_Date_Time</th>\n",
       "      <th>End_Date_Time</th>\n",
       "      <th>Latitude</th>\n",
       "      <th>Longitude</th>\n",
       "      <th>Police District Number</th>\n",
       "      <th>Location</th>\n",
       "    </tr>\n",
       "  </thead>\n",
       "  <tbody>\n",
       "    <tr>\n",
       "      <th>0</th>\n",
       "      <td>201202980</td>\n",
       "      <td>3550</td>\n",
       "      <td>180042096</td>\n",
       "      <td>08/23/2018 09:52:08 PM</td>\n",
       "      <td>35B</td>\n",
       "      <td>1</td>\n",
       "      <td>Crime Against Society</td>\n",
       "      <td>Drug Equipment Violations</td>\n",
       "      <td>DRUGS - NARCOTIC EQUIP - POSSESS</td>\n",
       "      <td>GERMANTOWN</td>\n",
       "      <td>...</td>\n",
       "      <td>NaN</td>\n",
       "      <td>MIDDLEBROOK</td>\n",
       "      <td>NaN</td>\n",
       "      <td>RD</td>\n",
       "      <td>08/23/2018 09:52:00 PM</td>\n",
       "      <td>NaN</td>\n",
       "      <td>39.177744</td>\n",
       "      <td>-77.265619</td>\n",
       "      <td>5D</td>\n",
       "      <td>(39.1777, -77.2656)</td>\n",
       "    </tr>\n",
       "    <tr>\n",
       "      <th>1</th>\n",
       "      <td>201181293</td>\n",
       "      <td>3522</td>\n",
       "      <td>180015424</td>\n",
       "      <td>03/30/2018 01:00:55 AM</td>\n",
       "      <td>35A</td>\n",
       "      <td>1</td>\n",
       "      <td>Crime Against Society</td>\n",
       "      <td>Drug/Narcotic Violations</td>\n",
       "      <td>DRUGS - OPIUM OR DERIVATIVE - POSSESS</td>\n",
       "      <td>BETHESDA</td>\n",
       "      <td>...</td>\n",
       "      <td>NaN</td>\n",
       "      <td>WOODMONT</td>\n",
       "      <td>NaN</td>\n",
       "      <td>AVE</td>\n",
       "      <td>03/30/2018 01:01:00 AM</td>\n",
       "      <td>NaN</td>\n",
       "      <td>38.992693</td>\n",
       "      <td>-77.097063</td>\n",
       "      <td>2D</td>\n",
       "      <td>(38.9927, -77.0971)</td>\n",
       "    </tr>\n",
       "    <tr>\n",
       "      <th>2</th>\n",
       "      <td>201181293</td>\n",
       "      <td>3562</td>\n",
       "      <td>180015424</td>\n",
       "      <td>03/30/2018 01:00:55 AM</td>\n",
       "      <td>35A</td>\n",
       "      <td>1</td>\n",
       "      <td>Crime Against Society</td>\n",
       "      <td>Drug/Narcotic Violations</td>\n",
       "      <td>DRUGS - MARIJUANA - POSSESS</td>\n",
       "      <td>BETHESDA</td>\n",
       "      <td>...</td>\n",
       "      <td>NaN</td>\n",
       "      <td>WOODMONT</td>\n",
       "      <td>NaN</td>\n",
       "      <td>AVE</td>\n",
       "      <td>03/30/2018 01:01:00 AM</td>\n",
       "      <td>NaN</td>\n",
       "      <td>38.992693</td>\n",
       "      <td>-77.097063</td>\n",
       "      <td>2D</td>\n",
       "      <td>(38.9927, -77.0971)</td>\n",
       "    </tr>\n",
       "    <tr>\n",
       "      <th>3</th>\n",
       "      <td>201193163</td>\n",
       "      <td>3520</td>\n",
       "      <td>180029476</td>\n",
       "      <td>06/14/2018 10:26:45 PM</td>\n",
       "      <td>35A</td>\n",
       "      <td>1</td>\n",
       "      <td>Crime Against Society</td>\n",
       "      <td>Drug/Narcotic Violations</td>\n",
       "      <td>DRUGS - OPIUM OR DERIVATIVE - SELL</td>\n",
       "      <td>MONTGOMERY VILLAGE</td>\n",
       "      <td>...</td>\n",
       "      <td>NaN</td>\n",
       "      <td>QUINCE ORCHARD</td>\n",
       "      <td>NaN</td>\n",
       "      <td>RD</td>\n",
       "      <td>06/14/2018 10:26:00 PM</td>\n",
       "      <td>06/15/2018 03:00:00 AM</td>\n",
       "      <td>39.147954</td>\n",
       "      <td>-77.218189</td>\n",
       "      <td>6D</td>\n",
       "      <td>(39.148, -77.2182)</td>\n",
       "    </tr>\n",
       "    <tr>\n",
       "      <th>4</th>\n",
       "      <td>201204355</td>\n",
       "      <td>2204</td>\n",
       "      <td>180043926</td>\n",
       "      <td>09/03/2018 12:06:54 PM</td>\n",
       "      <td>220</td>\n",
       "      <td>1</td>\n",
       "      <td>Crime Against Property</td>\n",
       "      <td>Burglary/Breaking and Entering</td>\n",
       "      <td>BURGLARY - NO FORCED ENTRY-RESIDENTIAL</td>\n",
       "      <td>BETHESDA</td>\n",
       "      <td>...</td>\n",
       "      <td>NaN</td>\n",
       "      <td>FALSTONE</td>\n",
       "      <td>NaN</td>\n",
       "      <td>AVE</td>\n",
       "      <td>09/02/2018 11:30:00 PM</td>\n",
       "      <td>09/03/2018 12:30:00 AM</td>\n",
       "      <td>38.966174</td>\n",
       "      <td>-77.096561</td>\n",
       "      <td>2D</td>\n",
       "      <td>(38.9662, -77.0966)</td>\n",
       "    </tr>\n",
       "    <tr>\n",
       "      <th>...</th>\n",
       "      <td>...</td>\n",
       "      <td>...</td>\n",
       "      <td>...</td>\n",
       "      <td>...</td>\n",
       "      <td>...</td>\n",
       "      <td>...</td>\n",
       "      <td>...</td>\n",
       "      <td>...</td>\n",
       "      <td>...</td>\n",
       "      <td>...</td>\n",
       "      <td>...</td>\n",
       "      <td>...</td>\n",
       "      <td>...</td>\n",
       "      <td>...</td>\n",
       "      <td>...</td>\n",
       "      <td>...</td>\n",
       "      <td>...</td>\n",
       "      <td>...</td>\n",
       "      <td>...</td>\n",
       "      <td>...</td>\n",
       "      <td>...</td>\n",
       "    </tr>\n",
       "    <tr>\n",
       "      <th>306089</th>\n",
       "      <td>201320571</td>\n",
       "      <td>1399</td>\n",
       "      <td>210006666</td>\n",
       "      <td>02/21/2021 07:25:28 AM</td>\n",
       "      <td>13B</td>\n",
       "      <td>1</td>\n",
       "      <td>Crime Against Person</td>\n",
       "      <td>Simple Assault</td>\n",
       "      <td>ASSAULT - 2ND DEGREE</td>\n",
       "      <td>MONTGOMERY VILLAGE</td>\n",
       "      <td>...</td>\n",
       "      <td>NaN</td>\n",
       "      <td>TRANSHIRE</td>\n",
       "      <td>NaN</td>\n",
       "      <td>RD</td>\n",
       "      <td>02/20/2021 08:00:00 PM</td>\n",
       "      <td>NaN</td>\n",
       "      <td>39.172701</td>\n",
       "      <td>-77.197340</td>\n",
       "      <td>6D</td>\n",
       "      <td>(39.1727, -77.1973)</td>\n",
       "    </tr>\n",
       "    <tr>\n",
       "      <th>306090</th>\n",
       "      <td>201329875</td>\n",
       "      <td>2305</td>\n",
       "      <td>210017101</td>\n",
       "      <td>05/06/2021 10:54:47 PM</td>\n",
       "      <td>23F</td>\n",
       "      <td>1</td>\n",
       "      <td>Crime Against Property</td>\n",
       "      <td>Theft From Motor Vehicle</td>\n",
       "      <td>LARCENY - FROM AUTO</td>\n",
       "      <td>WHEATON</td>\n",
       "      <td>...</td>\n",
       "      <td>NaN</td>\n",
       "      <td>ATHERTON</td>\n",
       "      <td>NaN</td>\n",
       "      <td>DR</td>\n",
       "      <td>05/06/2021 03:15:00 AM</td>\n",
       "      <td>NaN</td>\n",
       "      <td>39.059672</td>\n",
       "      <td>-77.075995</td>\n",
       "      <td>4D</td>\n",
       "      <td>(39.0597, -77.076)</td>\n",
       "    </tr>\n",
       "    <tr>\n",
       "      <th>306091</th>\n",
       "      <td>201329751</td>\n",
       "      <td>5016</td>\n",
       "      <td>210016952</td>\n",
       "      <td>05/05/2021 10:38:58 PM</td>\n",
       "      <td>90Z</td>\n",
       "      <td>1</td>\n",
       "      <td>Crime Against Society</td>\n",
       "      <td>All Other Offenses</td>\n",
       "      <td>OBSTRUCT GOVT - VIOLATION OF A COURT ORDER</td>\n",
       "      <td>GERMANTOWN</td>\n",
       "      <td>...</td>\n",
       "      <td>NaN</td>\n",
       "      <td>BALTUSROL</td>\n",
       "      <td>NaN</td>\n",
       "      <td>DR</td>\n",
       "      <td>05/05/2021 10:38:00 PM</td>\n",
       "      <td>NaN</td>\n",
       "      <td>39.199722</td>\n",
       "      <td>-77.273039</td>\n",
       "      <td>5D</td>\n",
       "      <td>(39.1997, -77.273)</td>\n",
       "    </tr>\n",
       "    <tr>\n",
       "      <th>306092</th>\n",
       "      <td>201323117</td>\n",
       "      <td>9099</td>\n",
       "      <td>210009468</td>\n",
       "      <td>03/13/2021 12:07:14 PM</td>\n",
       "      <td>90Z</td>\n",
       "      <td>1</td>\n",
       "      <td>Crime Against Society</td>\n",
       "      <td>All Other Offenses</td>\n",
       "      <td>ALL OTHER OFFENSES</td>\n",
       "      <td>SILVER SPRING</td>\n",
       "      <td>...</td>\n",
       "      <td>NaN</td>\n",
       "      <td>FENTON</td>\n",
       "      <td>NaN</td>\n",
       "      <td>ST</td>\n",
       "      <td>03/13/2021 01:35:00 PM</td>\n",
       "      <td>NaN</td>\n",
       "      <td>38.985813</td>\n",
       "      <td>-77.022915</td>\n",
       "      <td>3D</td>\n",
       "      <td>(38.9858, -77.0229)</td>\n",
       "    </tr>\n",
       "    <tr>\n",
       "      <th>306093</th>\n",
       "      <td>201327806</td>\n",
       "      <td>2305</td>\n",
       "      <td>210014587</td>\n",
       "      <td>04/19/2021 02:17:29 PM</td>\n",
       "      <td>23F</td>\n",
       "      <td>1</td>\n",
       "      <td>Crime Against Property</td>\n",
       "      <td>Theft From Motor Vehicle</td>\n",
       "      <td>LARCENY - FROM AUTO</td>\n",
       "      <td>BETHESDA</td>\n",
       "      <td>...</td>\n",
       "      <td>NaN</td>\n",
       "      <td>NEWPORT MILL</td>\n",
       "      <td>NaN</td>\n",
       "      <td>RD</td>\n",
       "      <td>04/18/2021 04:00:00 PM</td>\n",
       "      <td>04/19/2021 12:00:00 PM</td>\n",
       "      <td>39.037115</td>\n",
       "      <td>-77.072485</td>\n",
       "      <td>2D</td>\n",
       "      <td>(39.0371, -77.0725)</td>\n",
       "    </tr>\n",
       "  </tbody>\n",
       "</table>\n",
       "<p>302519 rows × 30 columns</p>\n",
       "</div>"
      ],
      "text/plain": [
       "        Incident ID Offence Code  CR Number    Dispatch Date / Time  \\\n",
       "0         201202980         3550  180042096  08/23/2018 09:52:08 PM   \n",
       "1         201181293         3522  180015424  03/30/2018 01:00:55 AM   \n",
       "2         201181293         3562  180015424  03/30/2018 01:00:55 AM   \n",
       "3         201193163         3520  180029476  06/14/2018 10:26:45 PM   \n",
       "4         201204355         2204  180043926  09/03/2018 12:06:54 PM   \n",
       "...             ...          ...        ...                     ...   \n",
       "306089    201320571         1399  210006666  02/21/2021 07:25:28 AM   \n",
       "306090    201329875         2305  210017101  05/06/2021 10:54:47 PM   \n",
       "306091    201329751         5016  210016952  05/05/2021 10:38:58 PM   \n",
       "306092    201323117         9099  210009468  03/13/2021 12:07:14 PM   \n",
       "306093    201327806         2305  210014587  04/19/2021 02:17:29 PM   \n",
       "\n",
       "       NIBRS Code  Victims             Crime Name1  \\\n",
       "0             35B        1   Crime Against Society   \n",
       "1             35A        1   Crime Against Society   \n",
       "2             35A        1   Crime Against Society   \n",
       "3             35A        1   Crime Against Society   \n",
       "4             220        1  Crime Against Property   \n",
       "...           ...      ...                     ...   \n",
       "306089        13B        1    Crime Against Person   \n",
       "306090        23F        1  Crime Against Property   \n",
       "306091        90Z        1   Crime Against Society   \n",
       "306092        90Z        1   Crime Against Society   \n",
       "306093        23F        1  Crime Against Property   \n",
       "\n",
       "                           Crime Name2  \\\n",
       "0            Drug Equipment Violations   \n",
       "1             Drug/Narcotic Violations   \n",
       "2             Drug/Narcotic Violations   \n",
       "3             Drug/Narcotic Violations   \n",
       "4       Burglary/Breaking and Entering   \n",
       "...                                ...   \n",
       "306089                  Simple Assault   \n",
       "306090        Theft From Motor Vehicle   \n",
       "306091              All Other Offenses   \n",
       "306092              All Other Offenses   \n",
       "306093        Theft From Motor Vehicle   \n",
       "\n",
       "                                       Crime Name3 Police District Name  ...  \\\n",
       "0                 DRUGS - NARCOTIC EQUIP - POSSESS           GERMANTOWN  ...   \n",
       "1            DRUGS - OPIUM OR DERIVATIVE - POSSESS             BETHESDA  ...   \n",
       "2                      DRUGS - MARIJUANA - POSSESS             BETHESDA  ...   \n",
       "3               DRUGS - OPIUM OR DERIVATIVE - SELL   MONTGOMERY VILLAGE  ...   \n",
       "4           BURGLARY - NO FORCED ENTRY-RESIDENTIAL             BETHESDA  ...   \n",
       "...                                            ...                  ...  ...   \n",
       "306089                        ASSAULT - 2ND DEGREE   MONTGOMERY VILLAGE  ...   \n",
       "306090                         LARCENY - FROM AUTO              WHEATON  ...   \n",
       "306091  OBSTRUCT GOVT - VIOLATION OF A COURT ORDER           GERMANTOWN  ...   \n",
       "306092                          ALL OTHER OFFENSES        SILVER SPRING  ...   \n",
       "306093                         LARCENY - FROM AUTO             BETHESDA  ...   \n",
       "\n",
       "       Street Prefix     Street Name Street Suffix  Street Type  \\\n",
       "0                NaN     MIDDLEBROOK           NaN           RD   \n",
       "1                NaN        WOODMONT           NaN          AVE   \n",
       "2                NaN        WOODMONT           NaN          AVE   \n",
       "3                NaN  QUINCE ORCHARD           NaN           RD   \n",
       "4                NaN        FALSTONE           NaN          AVE   \n",
       "...              ...             ...           ...          ...   \n",
       "306089           NaN       TRANSHIRE           NaN           RD   \n",
       "306090           NaN        ATHERTON           NaN           DR   \n",
       "306091           NaN       BALTUSROL           NaN           DR   \n",
       "306092           NaN          FENTON           NaN           ST   \n",
       "306093           NaN    NEWPORT MILL           NaN           RD   \n",
       "\n",
       "               Start_Date_Time           End_Date_Time   Latitude  Longitude  \\\n",
       "0       08/23/2018 09:52:00 PM                     NaN  39.177744 -77.265619   \n",
       "1       03/30/2018 01:01:00 AM                     NaN  38.992693 -77.097063   \n",
       "2       03/30/2018 01:01:00 AM                     NaN  38.992693 -77.097063   \n",
       "3       06/14/2018 10:26:00 PM  06/15/2018 03:00:00 AM  39.147954 -77.218189   \n",
       "4       09/02/2018 11:30:00 PM  09/03/2018 12:30:00 AM  38.966174 -77.096561   \n",
       "...                        ...                     ...        ...        ...   \n",
       "306089  02/20/2021 08:00:00 PM                     NaN  39.172701 -77.197340   \n",
       "306090  05/06/2021 03:15:00 AM                     NaN  39.059672 -77.075995   \n",
       "306091  05/05/2021 10:38:00 PM                     NaN  39.199722 -77.273039   \n",
       "306092  03/13/2021 01:35:00 PM                     NaN  38.985813 -77.022915   \n",
       "306093  04/18/2021 04:00:00 PM  04/19/2021 12:00:00 PM  39.037115 -77.072485   \n",
       "\n",
       "       Police District Number             Location  \n",
       "0                          5D  (39.1777, -77.2656)  \n",
       "1                          2D  (38.9927, -77.0971)  \n",
       "2                          2D  (38.9927, -77.0971)  \n",
       "3                          6D   (39.148, -77.2182)  \n",
       "4                          2D  (38.9662, -77.0966)  \n",
       "...                       ...                  ...  \n",
       "306089                     6D  (39.1727, -77.1973)  \n",
       "306090                     4D   (39.0597, -77.076)  \n",
       "306091                     5D   (39.1997, -77.273)  \n",
       "306092                     3D  (38.9858, -77.0229)  \n",
       "306093                     2D  (39.0371, -77.0725)  \n",
       "\n",
       "[302519 rows x 30 columns]"
      ]
     },
     "execution_count": 47,
     "metadata": {},
     "output_type": "execute_result"
    }
   ],
   "source": [
    "df_crimes"
   ]
  },
  {
   "cell_type": "markdown",
   "id": "68b148ca",
   "metadata": {},
   "source": [
    "What if we want to see the counts per `Crime Name1`? "
   ]
  },
  {
   "cell_type": "code",
   "execution_count": 51,
   "id": "1537d8cc",
   "metadata": {},
   "outputs": [
    {
     "data": {
      "text/plain": [
       "Crime Name1\n",
       "Crime Against Person       30270\n",
       "Crime Against Property    139882\n",
       "Crime Against Society      68917\n",
       "Other                      63178\n",
       "dtype: int64"
      ]
     },
     "execution_count": 51,
     "metadata": {},
     "output_type": "execute_result"
    }
   ],
   "source": [
    "df_crimes.groupby(['Crime Name1']).size()"
   ]
  },
  {
   "cell_type": "code",
   "execution_count": 52,
   "id": "cbd912cd",
   "metadata": {},
   "outputs": [
    {
     "data": {
      "text/plain": [
       "Crime Name1\n",
       "Crime Against Person       30270\n",
       "Crime Against Property    139882\n",
       "Crime Against Society      68917\n",
       "Not a Crime                 3575\n",
       "Other                      63178\n",
       "dtype: int64"
      ]
     },
     "execution_count": 52,
     "metadata": {},
     "output_type": "execute_result"
    }
   ],
   "source": [
    "df.groupby(['Crime Name1']).size()"
   ]
  },
  {
   "cell_type": "markdown",
   "id": "209891af",
   "metadata": {},
   "source": [
    "## Manipulating data"
   ]
  },
  {
   "cell_type": "markdown",
   "id": "dfa4ce24",
   "metadata": {},
   "source": [
    "#### Editing string values"
   ]
  },
  {
   "cell_type": "markdown",
   "id": "8d83c7ba",
   "metadata": {},
   "source": [
    "Let's say we need to standardize our data and have everything in `Crime Name1` be in lowercase?"
   ]
  },
  {
   "cell_type": "code",
   "execution_count": 53,
   "id": "6b99c4c3",
   "metadata": {},
   "outputs": [],
   "source": [
    "df['Crime Name1'] = df['Crime Name1'].str.lower()"
   ]
  },
  {
   "cell_type": "code",
   "execution_count": 54,
   "id": "b2a283dc",
   "metadata": {},
   "outputs": [
    {
     "data": {
      "text/html": [
       "<div>\n",
       "<style scoped>\n",
       "    .dataframe tbody tr th:only-of-type {\n",
       "        vertical-align: middle;\n",
       "    }\n",
       "\n",
       "    .dataframe tbody tr th {\n",
       "        vertical-align: top;\n",
       "    }\n",
       "\n",
       "    .dataframe thead th {\n",
       "        text-align: right;\n",
       "    }\n",
       "</style>\n",
       "<table border=\"1\" class=\"dataframe\">\n",
       "  <thead>\n",
       "    <tr style=\"text-align: right;\">\n",
       "      <th></th>\n",
       "      <th>Incident ID</th>\n",
       "      <th>Offence Code</th>\n",
       "      <th>CR Number</th>\n",
       "      <th>Dispatch Date / Time</th>\n",
       "      <th>NIBRS Code</th>\n",
       "      <th>Victims</th>\n",
       "      <th>Crime Name1</th>\n",
       "      <th>Crime Name2</th>\n",
       "      <th>Crime Name3</th>\n",
       "      <th>Police District Name</th>\n",
       "      <th>...</th>\n",
       "      <th>Street Prefix</th>\n",
       "      <th>Street Name</th>\n",
       "      <th>Street Suffix</th>\n",
       "      <th>Street Type</th>\n",
       "      <th>Start_Date_Time</th>\n",
       "      <th>End_Date_Time</th>\n",
       "      <th>Latitude</th>\n",
       "      <th>Longitude</th>\n",
       "      <th>Police District Number</th>\n",
       "      <th>Location</th>\n",
       "    </tr>\n",
       "  </thead>\n",
       "  <tbody>\n",
       "    <tr>\n",
       "      <th>0</th>\n",
       "      <td>201202980</td>\n",
       "      <td>3550</td>\n",
       "      <td>180042096</td>\n",
       "      <td>08/23/2018 09:52:08 PM</td>\n",
       "      <td>35B</td>\n",
       "      <td>1</td>\n",
       "      <td>crime against society</td>\n",
       "      <td>Drug Equipment Violations</td>\n",
       "      <td>DRUGS - NARCOTIC EQUIP - POSSESS</td>\n",
       "      <td>GERMANTOWN</td>\n",
       "      <td>...</td>\n",
       "      <td>NaN</td>\n",
       "      <td>MIDDLEBROOK</td>\n",
       "      <td>NaN</td>\n",
       "      <td>RD</td>\n",
       "      <td>08/23/2018 09:52:00 PM</td>\n",
       "      <td>NaN</td>\n",
       "      <td>39.177744</td>\n",
       "      <td>-77.265619</td>\n",
       "      <td>5D</td>\n",
       "      <td>(39.1777, -77.2656)</td>\n",
       "    </tr>\n",
       "    <tr>\n",
       "      <th>1</th>\n",
       "      <td>201181293</td>\n",
       "      <td>3522</td>\n",
       "      <td>180015424</td>\n",
       "      <td>03/30/2018 01:00:55 AM</td>\n",
       "      <td>35A</td>\n",
       "      <td>1</td>\n",
       "      <td>crime against society</td>\n",
       "      <td>Drug/Narcotic Violations</td>\n",
       "      <td>DRUGS - OPIUM OR DERIVATIVE - POSSESS</td>\n",
       "      <td>BETHESDA</td>\n",
       "      <td>...</td>\n",
       "      <td>NaN</td>\n",
       "      <td>WOODMONT</td>\n",
       "      <td>NaN</td>\n",
       "      <td>AVE</td>\n",
       "      <td>03/30/2018 01:01:00 AM</td>\n",
       "      <td>NaN</td>\n",
       "      <td>38.992693</td>\n",
       "      <td>-77.097063</td>\n",
       "      <td>2D</td>\n",
       "      <td>(38.9927, -77.0971)</td>\n",
       "    </tr>\n",
       "    <tr>\n",
       "      <th>2</th>\n",
       "      <td>201181293</td>\n",
       "      <td>3562</td>\n",
       "      <td>180015424</td>\n",
       "      <td>03/30/2018 01:00:55 AM</td>\n",
       "      <td>35A</td>\n",
       "      <td>1</td>\n",
       "      <td>crime against society</td>\n",
       "      <td>Drug/Narcotic Violations</td>\n",
       "      <td>DRUGS - MARIJUANA - POSSESS</td>\n",
       "      <td>BETHESDA</td>\n",
       "      <td>...</td>\n",
       "      <td>NaN</td>\n",
       "      <td>WOODMONT</td>\n",
       "      <td>NaN</td>\n",
       "      <td>AVE</td>\n",
       "      <td>03/30/2018 01:01:00 AM</td>\n",
       "      <td>NaN</td>\n",
       "      <td>38.992693</td>\n",
       "      <td>-77.097063</td>\n",
       "      <td>2D</td>\n",
       "      <td>(38.9927, -77.0971)</td>\n",
       "    </tr>\n",
       "    <tr>\n",
       "      <th>3</th>\n",
       "      <td>201193163</td>\n",
       "      <td>3520</td>\n",
       "      <td>180029476</td>\n",
       "      <td>06/14/2018 10:26:45 PM</td>\n",
       "      <td>35A</td>\n",
       "      <td>1</td>\n",
       "      <td>crime against society</td>\n",
       "      <td>Drug/Narcotic Violations</td>\n",
       "      <td>DRUGS - OPIUM OR DERIVATIVE - SELL</td>\n",
       "      <td>MONTGOMERY VILLAGE</td>\n",
       "      <td>...</td>\n",
       "      <td>NaN</td>\n",
       "      <td>QUINCE ORCHARD</td>\n",
       "      <td>NaN</td>\n",
       "      <td>RD</td>\n",
       "      <td>06/14/2018 10:26:00 PM</td>\n",
       "      <td>06/15/2018 03:00:00 AM</td>\n",
       "      <td>39.147954</td>\n",
       "      <td>-77.218189</td>\n",
       "      <td>6D</td>\n",
       "      <td>(39.148, -77.2182)</td>\n",
       "    </tr>\n",
       "    <tr>\n",
       "      <th>4</th>\n",
       "      <td>201204355</td>\n",
       "      <td>2204</td>\n",
       "      <td>180043926</td>\n",
       "      <td>09/03/2018 12:06:54 PM</td>\n",
       "      <td>220</td>\n",
       "      <td>1</td>\n",
       "      <td>crime against property</td>\n",
       "      <td>Burglary/Breaking and Entering</td>\n",
       "      <td>BURGLARY - NO FORCED ENTRY-RESIDENTIAL</td>\n",
       "      <td>BETHESDA</td>\n",
       "      <td>...</td>\n",
       "      <td>NaN</td>\n",
       "      <td>FALSTONE</td>\n",
       "      <td>NaN</td>\n",
       "      <td>AVE</td>\n",
       "      <td>09/02/2018 11:30:00 PM</td>\n",
       "      <td>09/03/2018 12:30:00 AM</td>\n",
       "      <td>38.966174</td>\n",
       "      <td>-77.096561</td>\n",
       "      <td>2D</td>\n",
       "      <td>(38.9662, -77.0966)</td>\n",
       "    </tr>\n",
       "  </tbody>\n",
       "</table>\n",
       "<p>5 rows × 30 columns</p>\n",
       "</div>"
      ],
      "text/plain": [
       "   Incident ID Offence Code  CR Number    Dispatch Date / Time NIBRS Code  \\\n",
       "0    201202980         3550  180042096  08/23/2018 09:52:08 PM        35B   \n",
       "1    201181293         3522  180015424  03/30/2018 01:00:55 AM        35A   \n",
       "2    201181293         3562  180015424  03/30/2018 01:00:55 AM        35A   \n",
       "3    201193163         3520  180029476  06/14/2018 10:26:45 PM        35A   \n",
       "4    201204355         2204  180043926  09/03/2018 12:06:54 PM        220   \n",
       "\n",
       "   Victims             Crime Name1                     Crime Name2  \\\n",
       "0        1   crime against society       Drug Equipment Violations   \n",
       "1        1   crime against society        Drug/Narcotic Violations   \n",
       "2        1   crime against society        Drug/Narcotic Violations   \n",
       "3        1   crime against society        Drug/Narcotic Violations   \n",
       "4        1  crime against property  Burglary/Breaking and Entering   \n",
       "\n",
       "                              Crime Name3 Police District Name  ...  \\\n",
       "0        DRUGS - NARCOTIC EQUIP - POSSESS           GERMANTOWN  ...   \n",
       "1   DRUGS - OPIUM OR DERIVATIVE - POSSESS             BETHESDA  ...   \n",
       "2             DRUGS - MARIJUANA - POSSESS             BETHESDA  ...   \n",
       "3      DRUGS - OPIUM OR DERIVATIVE - SELL   MONTGOMERY VILLAGE  ...   \n",
       "4  BURGLARY - NO FORCED ENTRY-RESIDENTIAL             BETHESDA  ...   \n",
       "\n",
       "  Street Prefix     Street Name Street Suffix  Street Type  \\\n",
       "0           NaN     MIDDLEBROOK           NaN           RD   \n",
       "1           NaN        WOODMONT           NaN          AVE   \n",
       "2           NaN        WOODMONT           NaN          AVE   \n",
       "3           NaN  QUINCE ORCHARD           NaN           RD   \n",
       "4           NaN        FALSTONE           NaN          AVE   \n",
       "\n",
       "          Start_Date_Time           End_Date_Time   Latitude  Longitude  \\\n",
       "0  08/23/2018 09:52:00 PM                     NaN  39.177744 -77.265619   \n",
       "1  03/30/2018 01:01:00 AM                     NaN  38.992693 -77.097063   \n",
       "2  03/30/2018 01:01:00 AM                     NaN  38.992693 -77.097063   \n",
       "3  06/14/2018 10:26:00 PM  06/15/2018 03:00:00 AM  39.147954 -77.218189   \n",
       "4  09/02/2018 11:30:00 PM  09/03/2018 12:30:00 AM  38.966174 -77.096561   \n",
       "\n",
       "  Police District Number             Location  \n",
       "0                     5D  (39.1777, -77.2656)  \n",
       "1                     2D  (38.9927, -77.0971)  \n",
       "2                     2D  (38.9927, -77.0971)  \n",
       "3                     6D   (39.148, -77.2182)  \n",
       "4                     2D  (38.9662, -77.0966)  \n",
       "\n",
       "[5 rows x 30 columns]"
      ]
     },
     "execution_count": 54,
     "metadata": {},
     "output_type": "execute_result"
    }
   ],
   "source": [
    "df.head()"
   ]
  },
  {
   "cell_type": "markdown",
   "id": "7d45dbbf",
   "metadata": {},
   "source": [
    "#### Dealing with null values"
   ]
  },
  {
   "cell_type": "markdown",
   "id": "2278b8cd",
   "metadata": {},
   "source": [
    "First of all, let's take a look at the different columns that have null values. If an item is missing a particular column value, what could that mean? e.g., is it possible for a particular zip code to not be recorded properly? Do the end date times mean it is simply missing and someone forgot to record it, or maybe that information is not known to begin with?"
   ]
  },
  {
   "cell_type": "code",
   "execution_count": 55,
   "id": "f7dbbd7b",
   "metadata": {},
   "outputs": [
    {
     "data": {
      "text/plain": [
       "Incident ID                    0\n",
       "Offence Code                   0\n",
       "CR Number                      0\n",
       "Dispatch Date / Time       49029\n",
       "NIBRS Code                     0\n",
       "Victims                        0\n",
       "Crime Name1                  272\n",
       "Crime Name2                  272\n",
       "Crime Name3                  272\n",
       "Police District Name          94\n",
       "Block Address              26206\n",
       "City                        1276\n",
       "State                          0\n",
       "Zip Code                    3179\n",
       "Agency                         0\n",
       "Place                          0\n",
       "Sector                      1530\n",
       "Beat                        1530\n",
       "PRA                          239\n",
       "Address Number             26109\n",
       "Street Prefix             292463\n",
       "Street Name                    1\n",
       "Street Suffix             300662\n",
       "Street Type                  339\n",
       "Start_Date_Time                0\n",
       "End_Date_Time             161658\n",
       "Latitude                       0\n",
       "Longitude                      0\n",
       "Police District Number         0\n",
       "Location                       0\n",
       "dtype: int64"
      ]
     },
     "execution_count": 55,
     "metadata": {},
     "output_type": "execute_result"
    }
   ],
   "source": [
    "df.isnull().sum()"
   ]
  },
  {
   "cell_type": "markdown",
   "id": "0830cae4",
   "metadata": {},
   "source": [
    "How we end up dealing with nulls depends on the context of the data and the problem/questions you are looking to solve. We could simply drop all null rows in the dataset using `df.dropna()`. But what if one column has many many nulls, but we aren't really planning on using that column anyways? It may be better to drop that individual column instead, for example: `df.drop('End_Date_Time', axis=1)`. Note that `axis=0` specifies you are trying to drop rows (it is this by default), and `axis=1` specifies that you are trying to drop column(s). If you ever forget which is which, try looking at the docuentation using: `df.drop?`"
   ]
  },
  {
   "cell_type": "markdown",
   "id": "19493891",
   "metadata": {},
   "source": [
    "Notice how this drops literally everything."
   ]
  },
  {
   "cell_type": "code",
   "execution_count": 57,
   "id": "1ae7f0df",
   "metadata": {},
   "outputs": [
    {
     "data": {
      "text/html": [
       "<div>\n",
       "<style scoped>\n",
       "    .dataframe tbody tr th:only-of-type {\n",
       "        vertical-align: middle;\n",
       "    }\n",
       "\n",
       "    .dataframe tbody tr th {\n",
       "        vertical-align: top;\n",
       "    }\n",
       "\n",
       "    .dataframe thead th {\n",
       "        text-align: right;\n",
       "    }\n",
       "</style>\n",
       "<table border=\"1\" class=\"dataframe\">\n",
       "  <thead>\n",
       "    <tr style=\"text-align: right;\">\n",
       "      <th></th>\n",
       "      <th>Incident ID</th>\n",
       "      <th>Offence Code</th>\n",
       "      <th>CR Number</th>\n",
       "      <th>Dispatch Date / Time</th>\n",
       "      <th>NIBRS Code</th>\n",
       "      <th>Victims</th>\n",
       "      <th>Crime Name1</th>\n",
       "      <th>Crime Name2</th>\n",
       "      <th>Crime Name3</th>\n",
       "      <th>Police District Name</th>\n",
       "      <th>...</th>\n",
       "      <th>Street Prefix</th>\n",
       "      <th>Street Name</th>\n",
       "      <th>Street Suffix</th>\n",
       "      <th>Street Type</th>\n",
       "      <th>Start_Date_Time</th>\n",
       "      <th>End_Date_Time</th>\n",
       "      <th>Latitude</th>\n",
       "      <th>Longitude</th>\n",
       "      <th>Police District Number</th>\n",
       "      <th>Location</th>\n",
       "    </tr>\n",
       "  </thead>\n",
       "  <tbody>\n",
       "  </tbody>\n",
       "</table>\n",
       "<p>0 rows × 30 columns</p>\n",
       "</div>"
      ],
      "text/plain": [
       "Empty DataFrame\n",
       "Columns: [Incident ID, Offence Code, CR Number, Dispatch Date / Time, NIBRS Code, Victims, Crime Name1, Crime Name2, Crime Name3, Police District Name, Block Address, City, State, Zip Code, Agency, Place, Sector, Beat, PRA, Address Number, Street Prefix, Street Name, Street Suffix, Street Type, Start_Date_Time, End_Date_Time, Latitude, Longitude, Police District Number, Location]\n",
       "Index: []\n",
       "\n",
       "[0 rows x 30 columns]"
      ]
     },
     "execution_count": 57,
     "metadata": {},
     "output_type": "execute_result"
    }
   ],
   "source": [
    "df.dropna()"
   ]
  },
  {
   "cell_type": "markdown",
   "id": "5909303d",
   "metadata": {},
   "source": [
    "If we run `df` again, we see that things weren't actually dropped. If we wanted to drop values *and* update the df, we would need to use either `df = df.dropna()` or `df.dropna('inplace=True')`"
   ]
  },
  {
   "cell_type": "code",
   "execution_count": 61,
   "id": "8f2a6cfa",
   "metadata": {},
   "outputs": [],
   "source": [
    "df.drop('End_Date_Time', axis = 1, inplace=True)"
   ]
  },
  {
   "cell_type": "code",
   "execution_count": 62,
   "id": "b2ea055f",
   "metadata": {},
   "outputs": [
    {
     "data": {
      "text/html": [
       "<div>\n",
       "<style scoped>\n",
       "    .dataframe tbody tr th:only-of-type {\n",
       "        vertical-align: middle;\n",
       "    }\n",
       "\n",
       "    .dataframe tbody tr th {\n",
       "        vertical-align: top;\n",
       "    }\n",
       "\n",
       "    .dataframe thead th {\n",
       "        text-align: right;\n",
       "    }\n",
       "</style>\n",
       "<table border=\"1\" class=\"dataframe\">\n",
       "  <thead>\n",
       "    <tr style=\"text-align: right;\">\n",
       "      <th></th>\n",
       "      <th>Incident ID</th>\n",
       "      <th>Offence Code</th>\n",
       "      <th>CR Number</th>\n",
       "      <th>Dispatch Date / Time</th>\n",
       "      <th>NIBRS Code</th>\n",
       "      <th>Victims</th>\n",
       "      <th>Crime Name1</th>\n",
       "      <th>Crime Name2</th>\n",
       "      <th>Crime Name3</th>\n",
       "      <th>Police District Name</th>\n",
       "      <th>...</th>\n",
       "      <th>Address Number</th>\n",
       "      <th>Street Prefix</th>\n",
       "      <th>Street Name</th>\n",
       "      <th>Street Suffix</th>\n",
       "      <th>Street Type</th>\n",
       "      <th>Start_Date_Time</th>\n",
       "      <th>Latitude</th>\n",
       "      <th>Longitude</th>\n",
       "      <th>Police District Number</th>\n",
       "      <th>Location</th>\n",
       "    </tr>\n",
       "  </thead>\n",
       "  <tbody>\n",
       "    <tr>\n",
       "      <th>0</th>\n",
       "      <td>201202980</td>\n",
       "      <td>3550</td>\n",
       "      <td>180042096</td>\n",
       "      <td>08/23/2018 09:52:08 PM</td>\n",
       "      <td>35B</td>\n",
       "      <td>1</td>\n",
       "      <td>crime against society</td>\n",
       "      <td>Drug Equipment Violations</td>\n",
       "      <td>DRUGS - NARCOTIC EQUIP - POSSESS</td>\n",
       "      <td>GERMANTOWN</td>\n",
       "      <td>...</td>\n",
       "      <td>12800.0</td>\n",
       "      <td>NaN</td>\n",
       "      <td>MIDDLEBROOK</td>\n",
       "      <td>NaN</td>\n",
       "      <td>RD</td>\n",
       "      <td>08/23/2018 09:52:00 PM</td>\n",
       "      <td>39.177744</td>\n",
       "      <td>-77.265619</td>\n",
       "      <td>5D</td>\n",
       "      <td>(39.1777, -77.2656)</td>\n",
       "    </tr>\n",
       "    <tr>\n",
       "      <th>1</th>\n",
       "      <td>201181293</td>\n",
       "      <td>3522</td>\n",
       "      <td>180015424</td>\n",
       "      <td>03/30/2018 01:00:55 AM</td>\n",
       "      <td>35A</td>\n",
       "      <td>1</td>\n",
       "      <td>crime against society</td>\n",
       "      <td>Drug/Narcotic Violations</td>\n",
       "      <td>DRUGS - OPIUM OR DERIVATIVE - POSSESS</td>\n",
       "      <td>BETHESDA</td>\n",
       "      <td>...</td>\n",
       "      <td>8300.0</td>\n",
       "      <td>NaN</td>\n",
       "      <td>WOODMONT</td>\n",
       "      <td>NaN</td>\n",
       "      <td>AVE</td>\n",
       "      <td>03/30/2018 01:01:00 AM</td>\n",
       "      <td>38.992693</td>\n",
       "      <td>-77.097063</td>\n",
       "      <td>2D</td>\n",
       "      <td>(38.9927, -77.0971)</td>\n",
       "    </tr>\n",
       "    <tr>\n",
       "      <th>2</th>\n",
       "      <td>201181293</td>\n",
       "      <td>3562</td>\n",
       "      <td>180015424</td>\n",
       "      <td>03/30/2018 01:00:55 AM</td>\n",
       "      <td>35A</td>\n",
       "      <td>1</td>\n",
       "      <td>crime against society</td>\n",
       "      <td>Drug/Narcotic Violations</td>\n",
       "      <td>DRUGS - MARIJUANA - POSSESS</td>\n",
       "      <td>BETHESDA</td>\n",
       "      <td>...</td>\n",
       "      <td>8300.0</td>\n",
       "      <td>NaN</td>\n",
       "      <td>WOODMONT</td>\n",
       "      <td>NaN</td>\n",
       "      <td>AVE</td>\n",
       "      <td>03/30/2018 01:01:00 AM</td>\n",
       "      <td>38.992693</td>\n",
       "      <td>-77.097063</td>\n",
       "      <td>2D</td>\n",
       "      <td>(38.9927, -77.0971)</td>\n",
       "    </tr>\n",
       "    <tr>\n",
       "      <th>3</th>\n",
       "      <td>201193163</td>\n",
       "      <td>3520</td>\n",
       "      <td>180029476</td>\n",
       "      <td>06/14/2018 10:26:45 PM</td>\n",
       "      <td>35A</td>\n",
       "      <td>1</td>\n",
       "      <td>crime against society</td>\n",
       "      <td>Drug/Narcotic Violations</td>\n",
       "      <td>DRUGS - OPIUM OR DERIVATIVE - SELL</td>\n",
       "      <td>MONTGOMERY VILLAGE</td>\n",
       "      <td>...</td>\n",
       "      <td>400.0</td>\n",
       "      <td>NaN</td>\n",
       "      <td>QUINCE ORCHARD</td>\n",
       "      <td>NaN</td>\n",
       "      <td>RD</td>\n",
       "      <td>06/14/2018 10:26:00 PM</td>\n",
       "      <td>39.147954</td>\n",
       "      <td>-77.218189</td>\n",
       "      <td>6D</td>\n",
       "      <td>(39.148, -77.2182)</td>\n",
       "    </tr>\n",
       "    <tr>\n",
       "      <th>4</th>\n",
       "      <td>201204355</td>\n",
       "      <td>2204</td>\n",
       "      <td>180043926</td>\n",
       "      <td>09/03/2018 12:06:54 PM</td>\n",
       "      <td>220</td>\n",
       "      <td>1</td>\n",
       "      <td>crime against property</td>\n",
       "      <td>Burglary/Breaking and Entering</td>\n",
       "      <td>BURGLARY - NO FORCED ENTRY-RESIDENTIAL</td>\n",
       "      <td>BETHESDA</td>\n",
       "      <td>...</td>\n",
       "      <td>4800.0</td>\n",
       "      <td>NaN</td>\n",
       "      <td>FALSTONE</td>\n",
       "      <td>NaN</td>\n",
       "      <td>AVE</td>\n",
       "      <td>09/02/2018 11:30:00 PM</td>\n",
       "      <td>38.966174</td>\n",
       "      <td>-77.096561</td>\n",
       "      <td>2D</td>\n",
       "      <td>(38.9662, -77.0966)</td>\n",
       "    </tr>\n",
       "    <tr>\n",
       "      <th>...</th>\n",
       "      <td>...</td>\n",
       "      <td>...</td>\n",
       "      <td>...</td>\n",
       "      <td>...</td>\n",
       "      <td>...</td>\n",
       "      <td>...</td>\n",
       "      <td>...</td>\n",
       "      <td>...</td>\n",
       "      <td>...</td>\n",
       "      <td>...</td>\n",
       "      <td>...</td>\n",
       "      <td>...</td>\n",
       "      <td>...</td>\n",
       "      <td>...</td>\n",
       "      <td>...</td>\n",
       "      <td>...</td>\n",
       "      <td>...</td>\n",
       "      <td>...</td>\n",
       "      <td>...</td>\n",
       "      <td>...</td>\n",
       "      <td>...</td>\n",
       "    </tr>\n",
       "    <tr>\n",
       "      <th>306089</th>\n",
       "      <td>201320571</td>\n",
       "      <td>1399</td>\n",
       "      <td>210006666</td>\n",
       "      <td>02/21/2021 07:25:28 AM</td>\n",
       "      <td>13B</td>\n",
       "      <td>1</td>\n",
       "      <td>crime against person</td>\n",
       "      <td>Simple Assault</td>\n",
       "      <td>ASSAULT - 2ND DEGREE</td>\n",
       "      <td>MONTGOMERY VILLAGE</td>\n",
       "      <td>...</td>\n",
       "      <td>19300.0</td>\n",
       "      <td>NaN</td>\n",
       "      <td>TRANSHIRE</td>\n",
       "      <td>NaN</td>\n",
       "      <td>RD</td>\n",
       "      <td>02/20/2021 08:00:00 PM</td>\n",
       "      <td>39.172701</td>\n",
       "      <td>-77.197340</td>\n",
       "      <td>6D</td>\n",
       "      <td>(39.1727, -77.1973)</td>\n",
       "    </tr>\n",
       "    <tr>\n",
       "      <th>306090</th>\n",
       "      <td>201329875</td>\n",
       "      <td>2305</td>\n",
       "      <td>210017101</td>\n",
       "      <td>05/06/2021 10:54:47 PM</td>\n",
       "      <td>23F</td>\n",
       "      <td>1</td>\n",
       "      <td>crime against property</td>\n",
       "      <td>Theft From Motor Vehicle</td>\n",
       "      <td>LARCENY - FROM AUTO</td>\n",
       "      <td>WHEATON</td>\n",
       "      <td>...</td>\n",
       "      <td>12500.0</td>\n",
       "      <td>NaN</td>\n",
       "      <td>ATHERTON</td>\n",
       "      <td>NaN</td>\n",
       "      <td>DR</td>\n",
       "      <td>05/06/2021 03:15:00 AM</td>\n",
       "      <td>39.059672</td>\n",
       "      <td>-77.075995</td>\n",
       "      <td>4D</td>\n",
       "      <td>(39.0597, -77.076)</td>\n",
       "    </tr>\n",
       "    <tr>\n",
       "      <th>306091</th>\n",
       "      <td>201329751</td>\n",
       "      <td>5016</td>\n",
       "      <td>210016952</td>\n",
       "      <td>05/05/2021 10:38:58 PM</td>\n",
       "      <td>90Z</td>\n",
       "      <td>1</td>\n",
       "      <td>crime against society</td>\n",
       "      <td>All Other Offenses</td>\n",
       "      <td>OBSTRUCT GOVT - VIOLATION OF A COURT ORDER</td>\n",
       "      <td>GERMANTOWN</td>\n",
       "      <td>...</td>\n",
       "      <td>300.0</td>\n",
       "      <td>NaN</td>\n",
       "      <td>BALTUSROL</td>\n",
       "      <td>NaN</td>\n",
       "      <td>DR</td>\n",
       "      <td>05/05/2021 10:38:00 PM</td>\n",
       "      <td>39.199722</td>\n",
       "      <td>-77.273039</td>\n",
       "      <td>5D</td>\n",
       "      <td>(39.1997, -77.273)</td>\n",
       "    </tr>\n",
       "    <tr>\n",
       "      <th>306092</th>\n",
       "      <td>201323117</td>\n",
       "      <td>9099</td>\n",
       "      <td>210009468</td>\n",
       "      <td>03/13/2021 12:07:14 PM</td>\n",
       "      <td>90Z</td>\n",
       "      <td>1</td>\n",
       "      <td>crime against society</td>\n",
       "      <td>All Other Offenses</td>\n",
       "      <td>ALL OTHER OFFENSES</td>\n",
       "      <td>SILVER SPRING</td>\n",
       "      <td>...</td>\n",
       "      <td>7700.0</td>\n",
       "      <td>NaN</td>\n",
       "      <td>FENTON</td>\n",
       "      <td>NaN</td>\n",
       "      <td>ST</td>\n",
       "      <td>03/13/2021 01:35:00 PM</td>\n",
       "      <td>38.985813</td>\n",
       "      <td>-77.022915</td>\n",
       "      <td>3D</td>\n",
       "      <td>(38.9858, -77.0229)</td>\n",
       "    </tr>\n",
       "    <tr>\n",
       "      <th>306093</th>\n",
       "      <td>201327806</td>\n",
       "      <td>2305</td>\n",
       "      <td>210014587</td>\n",
       "      <td>04/19/2021 02:17:29 PM</td>\n",
       "      <td>23F</td>\n",
       "      <td>1</td>\n",
       "      <td>crime against property</td>\n",
       "      <td>Theft From Motor Vehicle</td>\n",
       "      <td>LARCENY - FROM AUTO</td>\n",
       "      <td>BETHESDA</td>\n",
       "      <td>...</td>\n",
       "      <td>11100.0</td>\n",
       "      <td>NaN</td>\n",
       "      <td>NEWPORT MILL</td>\n",
       "      <td>NaN</td>\n",
       "      <td>RD</td>\n",
       "      <td>04/18/2021 04:00:00 PM</td>\n",
       "      <td>39.037115</td>\n",
       "      <td>-77.072485</td>\n",
       "      <td>2D</td>\n",
       "      <td>(39.0371, -77.0725)</td>\n",
       "    </tr>\n",
       "  </tbody>\n",
       "</table>\n",
       "<p>306094 rows × 29 columns</p>\n",
       "</div>"
      ],
      "text/plain": [
       "        Incident ID Offence Code  CR Number    Dispatch Date / Time  \\\n",
       "0         201202980         3550  180042096  08/23/2018 09:52:08 PM   \n",
       "1         201181293         3522  180015424  03/30/2018 01:00:55 AM   \n",
       "2         201181293         3562  180015424  03/30/2018 01:00:55 AM   \n",
       "3         201193163         3520  180029476  06/14/2018 10:26:45 PM   \n",
       "4         201204355         2204  180043926  09/03/2018 12:06:54 PM   \n",
       "...             ...          ...        ...                     ...   \n",
       "306089    201320571         1399  210006666  02/21/2021 07:25:28 AM   \n",
       "306090    201329875         2305  210017101  05/06/2021 10:54:47 PM   \n",
       "306091    201329751         5016  210016952  05/05/2021 10:38:58 PM   \n",
       "306092    201323117         9099  210009468  03/13/2021 12:07:14 PM   \n",
       "306093    201327806         2305  210014587  04/19/2021 02:17:29 PM   \n",
       "\n",
       "       NIBRS Code  Victims             Crime Name1  \\\n",
       "0             35B        1   crime against society   \n",
       "1             35A        1   crime against society   \n",
       "2             35A        1   crime against society   \n",
       "3             35A        1   crime against society   \n",
       "4             220        1  crime against property   \n",
       "...           ...      ...                     ...   \n",
       "306089        13B        1    crime against person   \n",
       "306090        23F        1  crime against property   \n",
       "306091        90Z        1   crime against society   \n",
       "306092        90Z        1   crime against society   \n",
       "306093        23F        1  crime against property   \n",
       "\n",
       "                           Crime Name2  \\\n",
       "0            Drug Equipment Violations   \n",
       "1             Drug/Narcotic Violations   \n",
       "2             Drug/Narcotic Violations   \n",
       "3             Drug/Narcotic Violations   \n",
       "4       Burglary/Breaking and Entering   \n",
       "...                                ...   \n",
       "306089                  Simple Assault   \n",
       "306090        Theft From Motor Vehicle   \n",
       "306091              All Other Offenses   \n",
       "306092              All Other Offenses   \n",
       "306093        Theft From Motor Vehicle   \n",
       "\n",
       "                                       Crime Name3 Police District Name  ...  \\\n",
       "0                 DRUGS - NARCOTIC EQUIP - POSSESS           GERMANTOWN  ...   \n",
       "1            DRUGS - OPIUM OR DERIVATIVE - POSSESS             BETHESDA  ...   \n",
       "2                      DRUGS - MARIJUANA - POSSESS             BETHESDA  ...   \n",
       "3               DRUGS - OPIUM OR DERIVATIVE - SELL   MONTGOMERY VILLAGE  ...   \n",
       "4           BURGLARY - NO FORCED ENTRY-RESIDENTIAL             BETHESDA  ...   \n",
       "...                                            ...                  ...  ...   \n",
       "306089                        ASSAULT - 2ND DEGREE   MONTGOMERY VILLAGE  ...   \n",
       "306090                         LARCENY - FROM AUTO              WHEATON  ...   \n",
       "306091  OBSTRUCT GOVT - VIOLATION OF A COURT ORDER           GERMANTOWN  ...   \n",
       "306092                          ALL OTHER OFFENSES        SILVER SPRING  ...   \n",
       "306093                         LARCENY - FROM AUTO             BETHESDA  ...   \n",
       "\n",
       "       Address Number Street Prefix     Street Name  Street Suffix  \\\n",
       "0             12800.0           NaN     MIDDLEBROOK            NaN   \n",
       "1              8300.0           NaN        WOODMONT            NaN   \n",
       "2              8300.0           NaN        WOODMONT            NaN   \n",
       "3               400.0           NaN  QUINCE ORCHARD            NaN   \n",
       "4              4800.0           NaN        FALSTONE            NaN   \n",
       "...               ...           ...             ...            ...   \n",
       "306089        19300.0           NaN       TRANSHIRE            NaN   \n",
       "306090        12500.0           NaN        ATHERTON            NaN   \n",
       "306091          300.0           NaN       BALTUSROL            NaN   \n",
       "306092         7700.0           NaN          FENTON            NaN   \n",
       "306093        11100.0           NaN    NEWPORT MILL            NaN   \n",
       "\n",
       "       Street Type         Start_Date_Time   Latitude  Longitude  \\\n",
       "0               RD  08/23/2018 09:52:00 PM  39.177744 -77.265619   \n",
       "1              AVE  03/30/2018 01:01:00 AM  38.992693 -77.097063   \n",
       "2              AVE  03/30/2018 01:01:00 AM  38.992693 -77.097063   \n",
       "3               RD  06/14/2018 10:26:00 PM  39.147954 -77.218189   \n",
       "4              AVE  09/02/2018 11:30:00 PM  38.966174 -77.096561   \n",
       "...            ...                     ...        ...        ...   \n",
       "306089          RD  02/20/2021 08:00:00 PM  39.172701 -77.197340   \n",
       "306090          DR  05/06/2021 03:15:00 AM  39.059672 -77.075995   \n",
       "306091          DR  05/05/2021 10:38:00 PM  39.199722 -77.273039   \n",
       "306092          ST  03/13/2021 01:35:00 PM  38.985813 -77.022915   \n",
       "306093          RD  04/18/2021 04:00:00 PM  39.037115 -77.072485   \n",
       "\n",
       "       Police District Number             Location  \n",
       "0                          5D  (39.1777, -77.2656)  \n",
       "1                          2D  (38.9927, -77.0971)  \n",
       "2                          2D  (38.9927, -77.0971)  \n",
       "3                          6D   (39.148, -77.2182)  \n",
       "4                          2D  (38.9662, -77.0966)  \n",
       "...                       ...                  ...  \n",
       "306089                     6D  (39.1727, -77.1973)  \n",
       "306090                     4D   (39.0597, -77.076)  \n",
       "306091                     5D   (39.1997, -77.273)  \n",
       "306092                     3D  (38.9858, -77.0229)  \n",
       "306093                     2D  (39.0371, -77.0725)  \n",
       "\n",
       "[306094 rows x 29 columns]"
      ]
     },
     "execution_count": 62,
     "metadata": {},
     "output_type": "execute_result"
    }
   ],
   "source": [
    "df"
   ]
  },
  {
   "cell_type": "markdown",
   "id": "570bb14a",
   "metadata": {},
   "source": [
    "## Visualizing with Matplotlib!"
   ]
  },
  {
   "cell_type": "markdown",
   "id": "81b85ac2",
   "metadata": {},
   "source": [
    "With will explore two libraries for making visualizations in python. One is Matplotlib and the other is Seaborn. To start, let's install and import matplotlib:"
   ]
  },
  {
   "cell_type": "code",
   "execution_count": 63,
   "id": "08de49fa",
   "metadata": {},
   "outputs": [
    {
     "name": "stdout",
     "output_type": "stream",
     "text": [
      "Requirement already satisfied: matplotlib in d:\\projects\\class\\env\\lib\\site-packages (3.4.3)\n",
      "Requirement already satisfied: pillow>=6.2.0 in d:\\projects\\class\\env\\lib\\site-packages (from matplotlib) (8.3.1)\n",
      "Requirement already satisfied: python-dateutil>=2.7 in d:\\projects\\class\\env\\lib\\site-packages (from matplotlib) (2.8.2)\n",
      "Requirement already satisfied: cycler>=0.10 in d:\\projects\\class\\env\\lib\\site-packages (from matplotlib) (0.10.0)\n",
      "Requirement already satisfied: kiwisolver>=1.0.1 in d:\\projects\\class\\env\\lib\\site-packages (from matplotlib) (1.3.2)\n",
      "Requirement already satisfied: numpy>=1.16 in d:\\projects\\class\\env\\lib\\site-packages (from matplotlib) (1.21.2)\n",
      "Requirement already satisfied: pyparsing>=2.2.1 in d:\\projects\\class\\env\\lib\\site-packages (from matplotlib) (2.4.7)\n",
      "Requirement already satisfied: six>=1.5 in d:\\projects\\class\\env\\lib\\site-packages (from python-dateutil>=2.7->matplotlib) (1.16.0)\n"
     ]
    },
    {
     "name": "stderr",
     "output_type": "stream",
     "text": [
      "WARNING: You are using pip version 20.2.3; however, version 22.2.2 is available.\n",
      "You should consider upgrading via the 'd:\\projects\\class\\env\\scripts\\python.exe -m pip install --upgrade pip' command.\n"
     ]
    }
   ],
   "source": [
    "!pip install matplotlib"
   ]
  },
  {
   "cell_type": "code",
   "execution_count": 64,
   "id": "08916f43",
   "metadata": {},
   "outputs": [],
   "source": [
    "import matplotlib.pyplot as plt"
   ]
  },
  {
   "cell_type": "markdown",
   "id": "bb392143",
   "metadata": {},
   "source": [
    "Take a look at the documentation first."
   ]
  },
  {
   "cell_type": "code",
   "execution_count": 1,
   "id": "cb3caffc",
   "metadata": {},
   "outputs": [
    {
     "name": "stdout",
     "output_type": "stream",
     "text": [
      "Object `df.plot` not found.\n"
     ]
    }
   ],
   "source": [
    "df.plot?"
   ]
  },
  {
   "cell_type": "markdown",
   "id": "7c56f507",
   "metadata": {},
   "source": [
    "#### Crime counts"
   ]
  },
  {
   "cell_type": "markdown",
   "id": "cd8b5452",
   "metadata": {},
   "source": [
    "Remember how we used `groupby` earlier?"
   ]
  },
  {
   "cell_type": "code",
   "execution_count": 73,
   "id": "53be3cb2",
   "metadata": {},
   "outputs": [
    {
     "data": {
      "text/plain": [
       "Crime Name1\n",
       "crime against person       30270\n",
       "crime against property    139882\n",
       "crime against society      68917\n",
       "not a crime                 3575\n",
       "other                      63178\n",
       "dtype: int64"
      ]
     },
     "execution_count": 73,
     "metadata": {},
     "output_type": "execute_result"
    }
   ],
   "source": [
    "df.groupby('Crime Name1').size()"
   ]
  },
  {
   "cell_type": "code",
   "execution_count": 77,
   "id": "0237f3d6",
   "metadata": {},
   "outputs": [
    {
     "data": {
      "text/plain": [
       "<AxesSubplot:xlabel='Crime Name1'>"
      ]
     },
     "execution_count": 77,
     "metadata": {},
     "output_type": "execute_result"
    },
    {
     "data": {
      "image/png": "[encoded data removed]",
      "text/plain": [
       "<Figure size 432x288 with 1 Axes>"
      ]
     },
     "metadata": {
      "needs_background": "light"
     },
     "output_type": "display_data"
    }
   ],
   "source": [
    "df.groupby('Crime Name1').size().plot(kind='bar')"
   ]
  },
  {
   "cell_type": "markdown",
   "id": "6e3f0aca",
   "metadata": {},
   "source": [
    "Now perhaps we want to dig deeper into crime against property. First, let's filter out just those:"
   ]
  },
  {
   "cell_type": "code",
   "execution_count": 75,
   "id": "cc4e7144",
   "metadata": {},
   "outputs": [],
   "source": [
    "df_property_crimes = df[df['Crime Name1'] == 'crime against property']"
   ]
  },
  {
   "cell_type": "markdown",
   "id": "ab384d2d",
   "metadata": {},
   "source": [
    "Now we can group by `Crime Name2` and plot that!"
   ]
  },
  {
   "cell_type": "code",
   "execution_count": 83,
   "id": "27aad0ab",
   "metadata": {},
   "outputs": [
    {
     "data": {
      "text/plain": [
       "Text(0.5, 0, 'Crime Names')"
      ]
     },
     "execution_count": 83,
     "metadata": {},
     "output_type": "execute_result"
    },
    {
     "data": {
      "image/png": "[encoded data removed]",
      "text/plain": [
       "<Figure size 864x432 with 1 Axes>"
      ]
     },
     "metadata": {
      "needs_background": "light"
     },
     "output_type": "display_data"
    }
   ],
   "source": [
    "df_property_crimes.groupby('Crime Name2').size().plot(kind='bar')\n",
    "plt.xlabel('Crime Names')"
   ]
  },
  {
   "cell_type": "markdown",
   "id": "ff63fac6",
   "metadata": {},
   "source": [
    "This is a bit small, so let's increase the size."
   ]
  },
  {
   "cell_type": "code",
   "execution_count": 80,
   "id": "2fc5604e",
   "metadata": {},
   "outputs": [],
   "source": [
    "plt.rcParams['figure.figsize'] = (12,6)"
   ]
  },
  {
   "cell_type": "code",
   "execution_count": 81,
   "id": "c67b8b21",
   "metadata": {},
   "outputs": [
    {
     "data": {
      "text/plain": [
       "<AxesSubplot:xlabel='Crime Name2'>"
      ]
     },
     "execution_count": 81,
     "metadata": {},
     "output_type": "execute_result"
    },
    {
     "data": {
      "image/png": "[encoded data removed]",
      "text/plain": [
       "<Figure size 864x432 with 1 Axes>"
      ]
     },
     "metadata": {
      "needs_background": "light"
     },
     "output_type": "display_data"
    }
   ],
   "source": [
    "df_property_crimes.groupby('Crime Name2').size().plot(kind='bar')"
   ]
  },
  {
   "cell_type": "markdown",
   "id": "9f9caef3",
   "metadata": {},
   "source": [
    "This is just *one small example* of things Matplotlib can do. It will be important to look through documentation, experiment, and ask questions! It is OK (and encouraged) to look things up (just make sure you cite your resources)!"
   ]
  },
  {
   "cell_type": "markdown",
   "id": "e32df5ee",
   "metadata": {},
   "source": [
    "## Some visualizations with Seaborn now!  \n",
    "More info here: https://seaborn.pydata.org/  \n",
    "They have a gallery and various tutorials."
   ]
  },
  {
   "cell_type": "markdown",
   "id": "d09d85bc",
   "metadata": {},
   "source": [
    "Once again, let's import everything first."
   ]
  },
  {
   "cell_type": "code",
   "execution_count": 84,
   "id": "f3d58fe0",
   "metadata": {},
   "outputs": [
    {
     "name": "stdout",
     "output_type": "stream",
     "text": [
      "Requirement already satisfied: seaborn in d:\\projects\\class\\env\\lib\\site-packages (0.11.2)\n",
      "Requirement already satisfied: matplotlib>=2.2 in d:\\projects\\class\\env\\lib\\site-packages (from seaborn) (3.4.3)\n",
      "Requirement already satisfied: pandas>=0.23 in d:\\projects\\class\\env\\lib\\site-packages (from seaborn) (1.3.2)\n",
      "Requirement already satisfied: numpy>=1.15 in d:\\projects\\class\\env\\lib\\site-packages (from seaborn) (1.21.2)\n",
      "Requirement already satisfied: scipy>=1.0 in d:\\projects\\class\\env\\lib\\site-packages (from seaborn) (1.7.1)\n",
      "Requirement already satisfied: pillow>=6.2.0 in d:\\projects\\class\\env\\lib\\site-packages (from matplotlib>=2.2->seaborn) (8.3.1)\n",
      "Requirement already satisfied: cycler>=0.10 in d:\\projects\\class\\env\\lib\\site-packages (from matplotlib>=2.2->seaborn) (0.10.0)\n",
      "Requirement already satisfied: python-dateutil>=2.7 in d:\\projects\\class\\env\\lib\\site-packages (from matplotlib>=2.2->seaborn) (2.8.2)\n",
      "Requirement already satisfied: kiwisolver>=1.0.1 in d:\\projects\\class\\env\\lib\\site-packages (from matplotlib>=2.2->seaborn) (1.3.2)\n",
      "Requirement already satisfied: pyparsing>=2.2.1 in d:\\projects\\class\\env\\lib\\site-packages (from matplotlib>=2.2->seaborn) (2.4.7)\n",
      "Requirement already satisfied: pytz>=2017.3 in d:\\projects\\class\\env\\lib\\site-packages (from pandas>=0.23->seaborn) (2021.1)\n",
      "Requirement already satisfied: six in d:\\projects\\class\\env\\lib\\site-packages (from cycler>=0.10->matplotlib>=2.2->seaborn) (1.16.0)\n"
     ]
    },
    {
     "name": "stderr",
     "output_type": "stream",
     "text": [
      "WARNING: You are using pip version 20.2.3; however, version 22.2.2 is available.\n",
      "You should consider upgrading via the 'd:\\projects\\class\\env\\scripts\\python.exe -m pip install --upgrade pip' command.\n"
     ]
    }
   ],
   "source": [
    "!pip install seaborn"
   ]
  },
  {
   "cell_type": "code",
   "execution_count": 85,
   "id": "8805bc18",
   "metadata": {},
   "outputs": [],
   "source": [
    "import seaborn as sns"
   ]
  },
  {
   "cell_type": "markdown",
   "id": "bcbb8602",
   "metadata": {},
   "source": [
    "#### We want to explore the crime rate across different times."
   ]
  },
  {
   "cell_type": "markdown",
   "id": "2c51862e",
   "metadata": {},
   "source": [
    "Let's make a new column for the date, and then for month, day, and hour."
   ]
  },
  {
   "cell_type": "code",
   "execution_count": 95,
   "id": "67417d0d",
   "metadata": {},
   "outputs": [],
   "source": [
    "df['date'] = pd.to_datetime(df['Dispatch Date / Time'])"
   ]
  },
  {
   "cell_type": "markdown",
   "id": "55674ec3",
   "metadata": {},
   "source": [
    "The above will make it easier to prase month, day, and hour now. Also, here is a reference [link](https://www.kaggle.com/code/sady36/visualization-uscrimesdataset). (I admit, I was about to do this in a much slower and painful way before seeing this notebook. So again, don't be afraid to look things up and use your resources!)   \n",
    "By the way, all of this below counts as pre-processing. We are making new columns based on the original `Dispatch Date / Time` one!"
   ]
  },
  {
   "cell_type": "code",
   "execution_count": 97,
   "id": "2c2d0430",
   "metadata": {},
   "outputs": [],
   "source": [
    "df[\"month\"] = df[\"date\"].apply(lambda x: x.month_name())\n",
    "df[\"day_name\"] = df[\"date\"].apply(lambda x: x.day_name())\n",
    "df[\"hour\"] = df[\"date\"].apply(lambda x: x.hour)"
   ]
  },
  {
   "cell_type": "markdown",
   "id": "7852606d",
   "metadata": {},
   "source": [
    "Look how nice this looks now!"
   ]
  },
  {
   "cell_type": "code",
   "execution_count": 99,
   "id": "1ac77a35",
   "metadata": {},
   "outputs": [
    {
     "data": {
      "text/html": [
       "<div>\n",
       "<style scoped>\n",
       "    .dataframe tbody tr th:only-of-type {\n",
       "        vertical-align: middle;\n",
       "    }\n",
       "\n",
       "    .dataframe tbody tr th {\n",
       "        vertical-align: top;\n",
       "    }\n",
       "\n",
       "    .dataframe thead th {\n",
       "        text-align: right;\n",
       "    }\n",
       "</style>\n",
       "<table border=\"1\" class=\"dataframe\">\n",
       "  <thead>\n",
       "    <tr style=\"text-align: right;\">\n",
       "      <th></th>\n",
       "      <th>Incident ID</th>\n",
       "      <th>Offence Code</th>\n",
       "      <th>CR Number</th>\n",
       "      <th>Dispatch Date / Time</th>\n",
       "      <th>NIBRS Code</th>\n",
       "      <th>Victims</th>\n",
       "      <th>Crime Name1</th>\n",
       "      <th>Crime Name2</th>\n",
       "      <th>Crime Name3</th>\n",
       "      <th>Police District Name</th>\n",
       "      <th>...</th>\n",
       "      <th>Street Type</th>\n",
       "      <th>Start_Date_Time</th>\n",
       "      <th>Latitude</th>\n",
       "      <th>Longitude</th>\n",
       "      <th>Police District Number</th>\n",
       "      <th>Location</th>\n",
       "      <th>date</th>\n",
       "      <th>month</th>\n",
       "      <th>day_name</th>\n",
       "      <th>hour</th>\n",
       "    </tr>\n",
       "  </thead>\n",
       "  <tbody>\n",
       "    <tr>\n",
       "      <th>0</th>\n",
       "      <td>201202980</td>\n",
       "      <td>3550</td>\n",
       "      <td>180042096</td>\n",
       "      <td>08/23/2018 09:52:08 PM</td>\n",
       "      <td>35B</td>\n",
       "      <td>1</td>\n",
       "      <td>crime against society</td>\n",
       "      <td>Drug Equipment Violations</td>\n",
       "      <td>DRUGS - NARCOTIC EQUIP - POSSESS</td>\n",
       "      <td>GERMANTOWN</td>\n",
       "      <td>...</td>\n",
       "      <td>RD</td>\n",
       "      <td>08/23/2018 09:52:00 PM</td>\n",
       "      <td>39.177744</td>\n",
       "      <td>-77.265619</td>\n",
       "      <td>5D</td>\n",
       "      <td>(39.1777, -77.2656)</td>\n",
       "      <td>2018-08-23 21:52:08</td>\n",
       "      <td>August</td>\n",
       "      <td>Thursday</td>\n",
       "      <td>21.0</td>\n",
       "    </tr>\n",
       "    <tr>\n",
       "      <th>1</th>\n",
       "      <td>201181293</td>\n",
       "      <td>3522</td>\n",
       "      <td>180015424</td>\n",
       "      <td>03/30/2018 01:00:55 AM</td>\n",
       "      <td>35A</td>\n",
       "      <td>1</td>\n",
       "      <td>crime against society</td>\n",
       "      <td>Drug/Narcotic Violations</td>\n",
       "      <td>DRUGS - OPIUM OR DERIVATIVE - POSSESS</td>\n",
       "      <td>BETHESDA</td>\n",
       "      <td>...</td>\n",
       "      <td>AVE</td>\n",
       "      <td>03/30/2018 01:01:00 AM</td>\n",
       "      <td>38.992693</td>\n",
       "      <td>-77.097063</td>\n",
       "      <td>2D</td>\n",
       "      <td>(38.9927, -77.0971)</td>\n",
       "      <td>2018-03-30 01:00:55</td>\n",
       "      <td>March</td>\n",
       "      <td>Friday</td>\n",
       "      <td>1.0</td>\n",
       "    </tr>\n",
       "    <tr>\n",
       "      <th>2</th>\n",
       "      <td>201181293</td>\n",
       "      <td>3562</td>\n",
       "      <td>180015424</td>\n",
       "      <td>03/30/2018 01:00:55 AM</td>\n",
       "      <td>35A</td>\n",
       "      <td>1</td>\n",
       "      <td>crime against society</td>\n",
       "      <td>Drug/Narcotic Violations</td>\n",
       "      <td>DRUGS - MARIJUANA - POSSESS</td>\n",
       "      <td>BETHESDA</td>\n",
       "      <td>...</td>\n",
       "      <td>AVE</td>\n",
       "      <td>03/30/2018 01:01:00 AM</td>\n",
       "      <td>38.992693</td>\n",
       "      <td>-77.097063</td>\n",
       "      <td>2D</td>\n",
       "      <td>(38.9927, -77.0971)</td>\n",
       "      <td>2018-03-30 01:00:55</td>\n",
       "      <td>March</td>\n",
       "      <td>Friday</td>\n",
       "      <td>1.0</td>\n",
       "    </tr>\n",
       "    <tr>\n",
       "      <th>3</th>\n",
       "      <td>201193163</td>\n",
       "      <td>3520</td>\n",
       "      <td>180029476</td>\n",
       "      <td>06/14/2018 10:26:45 PM</td>\n",
       "      <td>35A</td>\n",
       "      <td>1</td>\n",
       "      <td>crime against society</td>\n",
       "      <td>Drug/Narcotic Violations</td>\n",
       "      <td>DRUGS - OPIUM OR DERIVATIVE - SELL</td>\n",
       "      <td>MONTGOMERY VILLAGE</td>\n",
       "      <td>...</td>\n",
       "      <td>RD</td>\n",
       "      <td>06/14/2018 10:26:00 PM</td>\n",
       "      <td>39.147954</td>\n",
       "      <td>-77.218189</td>\n",
       "      <td>6D</td>\n",
       "      <td>(39.148, -77.2182)</td>\n",
       "      <td>2018-06-14 22:26:45</td>\n",
       "      <td>June</td>\n",
       "      <td>Thursday</td>\n",
       "      <td>22.0</td>\n",
       "    </tr>\n",
       "    <tr>\n",
       "      <th>4</th>\n",
       "      <td>201204355</td>\n",
       "      <td>2204</td>\n",
       "      <td>180043926</td>\n",
       "      <td>09/03/2018 12:06:54 PM</td>\n",
       "      <td>220</td>\n",
       "      <td>1</td>\n",
       "      <td>crime against property</td>\n",
       "      <td>Burglary/Breaking and Entering</td>\n",
       "      <td>BURGLARY - NO FORCED ENTRY-RESIDENTIAL</td>\n",
       "      <td>BETHESDA</td>\n",
       "      <td>...</td>\n",
       "      <td>AVE</td>\n",
       "      <td>09/02/2018 11:30:00 PM</td>\n",
       "      <td>38.966174</td>\n",
       "      <td>-77.096561</td>\n",
       "      <td>2D</td>\n",
       "      <td>(38.9662, -77.0966)</td>\n",
       "      <td>2018-09-03 12:06:54</td>\n",
       "      <td>September</td>\n",
       "      <td>Monday</td>\n",
       "      <td>12.0</td>\n",
       "    </tr>\n",
       "  </tbody>\n",
       "</table>\n",
       "<p>5 rows × 33 columns</p>\n",
       "</div>"
      ],
      "text/plain": [
       "   Incident ID Offence Code  CR Number    Dispatch Date / Time NIBRS Code  \\\n",
       "0    201202980         3550  180042096  08/23/2018 09:52:08 PM        35B   \n",
       "1    201181293         3522  180015424  03/30/2018 01:00:55 AM        35A   \n",
       "2    201181293         3562  180015424  03/30/2018 01:00:55 AM        35A   \n",
       "3    201193163         3520  180029476  06/14/2018 10:26:45 PM        35A   \n",
       "4    201204355         2204  180043926  09/03/2018 12:06:54 PM        220   \n",
       "\n",
       "   Victims             Crime Name1                     Crime Name2  \\\n",
       "0        1   crime against society       Drug Equipment Violations   \n",
       "1        1   crime against society        Drug/Narcotic Violations   \n",
       "2        1   crime against society        Drug/Narcotic Violations   \n",
       "3        1   crime against society        Drug/Narcotic Violations   \n",
       "4        1  crime against property  Burglary/Breaking and Entering   \n",
       "\n",
       "                              Crime Name3 Police District Name  ...  \\\n",
       "0        DRUGS - NARCOTIC EQUIP - POSSESS           GERMANTOWN  ...   \n",
       "1   DRUGS - OPIUM OR DERIVATIVE - POSSESS             BETHESDA  ...   \n",
       "2             DRUGS - MARIJUANA - POSSESS             BETHESDA  ...   \n",
       "3      DRUGS - OPIUM OR DERIVATIVE - SELL   MONTGOMERY VILLAGE  ...   \n",
       "4  BURGLARY - NO FORCED ENTRY-RESIDENTIAL             BETHESDA  ...   \n",
       "\n",
       "  Street Type         Start_Date_Time   Latitude  Longitude  \\\n",
       "0          RD  08/23/2018 09:52:00 PM  39.177744 -77.265619   \n",
       "1         AVE  03/30/2018 01:01:00 AM  38.992693 -77.097063   \n",
       "2         AVE  03/30/2018 01:01:00 AM  38.992693 -77.097063   \n",
       "3          RD  06/14/2018 10:26:00 PM  39.147954 -77.218189   \n",
       "4         AVE  09/02/2018 11:30:00 PM  38.966174 -77.096561   \n",
       "\n",
       "  Police District Number             Location                date      month  \\\n",
       "0                     5D  (39.1777, -77.2656) 2018-08-23 21:52:08     August   \n",
       "1                     2D  (38.9927, -77.0971) 2018-03-30 01:00:55      March   \n",
       "2                     2D  (38.9927, -77.0971) 2018-03-30 01:00:55      March   \n",
       "3                     6D   (39.148, -77.2182) 2018-06-14 22:26:45       June   \n",
       "4                     2D  (38.9662, -77.0966) 2018-09-03 12:06:54  September   \n",
       "\n",
       "   day_name  hour  \n",
       "0  Thursday  21.0  \n",
       "1    Friday   1.0  \n",
       "2    Friday   1.0  \n",
       "3  Thursday  22.0  \n",
       "4    Monday  12.0  \n",
       "\n",
       "[5 rows x 33 columns]"
      ]
     },
     "execution_count": 99,
     "metadata": {},
     "output_type": "execute_result"
    }
   ],
   "source": [
    "df.head()"
   ]
  },
  {
   "cell_type": "markdown",
   "id": "4cf351b4",
   "metadata": {},
   "source": [
    "First, let's again filter out anything that is in the dataset and \"not a crime.\""
   ]
  },
  {
   "cell_type": "code",
   "execution_count": 106,
   "id": "320f1f33",
   "metadata": {},
   "outputs": [],
   "source": [
    "df_filtered = df[df['Crime Name1'] != 'not a crime']"
   ]
  },
  {
   "cell_type": "markdown",
   "id": "a35086e7",
   "metadata": {},
   "source": [
    "Now, let's visualize the counts of crimes per hour."
   ]
  },
  {
   "cell_type": "code",
   "execution_count": 107,
   "id": "3d5fc8cb",
   "metadata": {},
   "outputs": [
    {
     "data": {
      "text/plain": [
       "<AxesSubplot:xlabel='hour', ylabel='count'>"
      ]
     },
     "execution_count": 107,
     "metadata": {},
     "output_type": "execute_result"
    },
    {
     "data": {
      "image/png": "[encoded data removed]",
      "text/plain": [
       "<Figure size 864x432 with 1 Axes>"
      ]
     },
     "metadata": {
      "needs_background": "light"
     },
     "output_type": "display_data"
    }
   ],
   "source": [
    "sns.countplot(x='hour', data=df_filtered)"
   ]
  },
  {
   "cell_type": "code",
   "execution_count": 105,
   "id": "f88d88a6",
   "metadata": {},
   "outputs": [
    {
     "data": {
      "text/plain": [
       "array(['crime against society', 'crime against property',\n",
       "       'crime against person', 'other', 'not a crime', nan], dtype=object)"
      ]
     },
     "execution_count": 105,
     "metadata": {},
     "output_type": "execute_result"
    }
   ],
   "source": [
    "df_filtered['Crime Name1'].unique()"
   ]
  },
  {
   "cell_type": "markdown",
   "id": "08988522",
   "metadata": {},
   "source": [
    "Perhaps we want to only see the types of crime against property per hour."
   ]
  },
  {
   "cell_type": "code",
   "execution_count": 108,
   "id": "c77fbbf6",
   "metadata": {},
   "outputs": [
    {
     "data": {
      "text/plain": [
       "<AxesSubplot:xlabel='hour', ylabel='count'>"
      ]
     },
     "execution_count": 108,
     "metadata": {},
     "output_type": "execute_result"
    },
    {
     "data": {
      "image/png": "[encoded data removed]",
      "text/plain": [
       "<Figure size 864x432 with 1 Axes>"
      ]
     },
     "metadata": {
      "needs_background": "light"
     },
     "output_type": "display_data"
    }
   ],
   "source": [
    "sns.countplot(x='hour', data=df[df['Crime Name1'] == 'crime against property'])"
   ]
  },
  {
   "cell_type": "markdown",
   "id": "ffefe7ca",
   "metadata": {},
   "source": [
    "We don't see too much of a difference..."
   ]
  },
  {
   "cell_type": "code",
   "execution_count": 113,
   "id": "6b9038ba",
   "metadata": {},
   "outputs": [
    {
     "data": {
      "text/plain": [
       "<AxesSubplot:xlabel='hour', ylabel='count'>"
      ]
     },
     "execution_count": 113,
     "metadata": {},
     "output_type": "execute_result"
    },
    {
     "data": {
      "image/png": "[encoded data removed]",
      "text/plain": [
       "<Figure size 864x432 with 1 Axes>"
      ]
     },
     "metadata": {
      "needs_background": "light"
     },
     "output_type": "display_data"
    }
   ],
   "source": [
    "sns.countplot(x='hour', data=df[df['Crime Name1'] == 'crime against society'])"
   ]
  },
  {
   "cell_type": "markdown",
   "id": "cf97eaf6",
   "metadata": {},
   "source": [
    "While crimes against society are less than against property, we see a change in the distribution!"
   ]
  },
  {
   "cell_type": "markdown",
   "id": "9f778e81",
   "metadata": {},
   "source": [
    "Now let's do crimes against people and give it a nice title so readers know what is happening here! A quick resource on how to add a title [here](https://www.tutorialspoint.com/how-to-add-a-title-on-seaborn-lmplot#)."
   ]
  },
  {
   "cell_type": "code",
   "execution_count": 115,
   "id": "cac2114a",
   "metadata": {},
   "outputs": [
    {
     "data": {
      "image/png": "[encoded data removed]",
      "text/plain": [
       "<Figure size 864x432 with 1 Axes>"
      ]
     },
     "metadata": {
      "needs_background": "light"
     },
     "output_type": "display_data"
    }
   ],
   "source": [
    "plot = sns.countplot(x='hour', data=df[df['Crime Name1'] == 'crime against person'])\n",
    "ax = plt.gca()\n",
    "ax.set_title(\"Counts of Crimes Against People per Hour of Day\")\n",
    "plt.show()"
   ]
  },
  {
   "cell_type": "markdown",
   "id": "2689f703",
   "metadata": {},
   "source": [
    "Notice how intentional we were about our question and the visualization we chose to make for it. And then it is possible for other questions to come up throughout that exploration."
   ]
  },
  {
   "cell_type": "code",
   "execution_count": null,
   "id": "449505f1",
   "metadata": {},
   "outputs": [],
   "source": []
  },
  {
   "cell_type": "code",
   "execution_count": null,
   "id": "063a3cee",
   "metadata": {},
   "outputs": [],
   "source": []
  },
  {
   "cell_type": "code",
   "execution_count": null,
   "id": "a73e507e",
   "metadata": {},
   "outputs": [],
   "source": []
  },
  {
   "cell_type": "code",
   "execution_count": null,
   "id": "1e852754",
   "metadata": {},
   "outputs": [],
   "source": []
  },
  {
   "cell_type": "code",
   "execution_count": null,
   "id": "0a5461e5",
   "metadata": {},
   "outputs": [],
   "source": []
  },
  {
   "cell_type": "code",
   "execution_count": null,
   "id": "d8dc2ed5",
   "metadata": {},
   "outputs": [],
   "source": []
  },
  {
   "cell_type": "code",
   "execution_count": null,
   "id": "a438523c",
   "metadata": {},
   "outputs": [],
   "source": []
  },
  {
   "cell_type": "code",
   "execution_count": null,
   "id": "e21cb256",
   "metadata": {},
   "outputs": [],
   "source": []
  }
 ],
 "metadata": {
  "kernelspec": {
   "display_name": "Python 3 (ipykernel)",
   "language": "python",
   "name": "python3"
  },
  "language_info": {
   "codemirror_mode": {
    "name": "ipython",
    "version": 3
   },
   "file_extension": ".py",
   "mimetype": "text/x-python",
   "name": "python",
   "nbconvert_exporter": "python",
   "pygments_lexer": "ipython3",
   "version": "3.12.4"
  }
 },
 "nbformat": 4,
 "nbformat_minor": 5
}
