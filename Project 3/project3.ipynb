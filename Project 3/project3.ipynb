{
 "cells": [
  {
   "cell_type": "markdown",
   "id": "1dac6513-2e25-4155-8310-acbaadeeaaf8",
   "metadata": {},
   "source": [
    "## Predicting Cryptocurrency Prices with Regression Analysis"
   ]
  },
  {
   "cell_type": "markdown",
   "id": "97ee2e7d-6181-4957-8b28-df84187be0b5",
   "metadata": {},
   "source": [
    "#### The aim of this project is to gain practical experience in handling a regression problem by building models to predict the price of a cryptocurrency. As cryptocurrency markets are highly volatile and influenced by multiple factors, predicting their prices requires a thoughtful approach to data analysis and model selection. For this project, I’ll explore different feature engineering and pre-processing techniques to optimize model performance. I’ll begin by constructing a linear regression model, examining how well it captures trends, and possibly experimenting with other regression techniques to push predictive accuracy further. Altough I could predict for the future I want to gauge just how well my model predicts. In order to do this I will be prediciting prices for 2019 and comparing with the actual this will give us better insight on the predicitive capabilities of my model!\n",
    "* Data was taken from yfinance (Yahoo Finance) https://finance.yahoo.com/?guccounter=1&guce_referrer=aHR0cHM6Ly93d3cuZ29vZ2xlLmNvbS8&guce_referrer_sig=AQAAAFrDXzo9HDhc2-KjBxhuvWVClU3MRvryVRC02rLLZOWfnXMxlQmmBYEXJwIiRNI7AIEVWWQa1nip7Y7lrSygIMiZoGdJY77r3RbaEf5-DNXPebzZCDZFBqyGp5xxeSSEY-ds1ZNyMik_8nkyyL0G21mI6GLOLhX7syGtgmyTO1e1\n",
    "  "
   ]
  },
  {
   "cell_type": "code",
   "execution_count": 8,
   "id": "bfafe35d-e8b4-4053-ae44-8158a8a08c4a",
   "metadata": {},
   "outputs": [
    {
     "name": "stdout",
     "output_type": "stream",
     "text": [
      "Requirement already satisfied: yfinance in /opt/anaconda3/lib/python3.12/site-packages (0.2.46)\n",
      "Requirement already satisfied: pandas>=1.3.0 in /opt/anaconda3/lib/python3.12/site-packages (from yfinance) (2.2.2)\n",
      "Requirement already satisfied: numpy>=1.16.5 in /opt/anaconda3/lib/python3.12/site-packages (from yfinance) (1.26.4)\n",
      "Requirement already satisfied: requests>=2.31 in /opt/anaconda3/lib/python3.12/site-packages (from yfinance) (2.32.2)\n",
      "Requirement already satisfied: multitasking>=0.0.7 in /opt/anaconda3/lib/python3.12/site-packages (from yfinance) (0.0.11)\n",
      "Requirement already satisfied: lxml>=4.9.1 in /opt/anaconda3/lib/python3.12/site-packages (from yfinance) (5.2.1)\n",
      "Requirement already satisfied: platformdirs>=2.0.0 in /opt/anaconda3/lib/python3.12/site-packages (from yfinance) (3.10.0)\n",
      "Requirement already satisfied: pytz>=2022.5 in /opt/anaconda3/lib/python3.12/site-packages (from yfinance) (2024.1)\n",
      "Requirement already satisfied: frozendict>=2.3.4 in /opt/anaconda3/lib/python3.12/site-packages (from yfinance) (2.4.2)\n",
      "Requirement already satisfied: peewee>=3.16.2 in /opt/anaconda3/lib/python3.12/site-packages (from yfinance) (3.17.7)\n",
      "Requirement already satisfied: beautifulsoup4>=4.11.1 in /opt/anaconda3/lib/python3.12/site-packages (from yfinance) (4.12.3)\n",
      "Requirement already satisfied: html5lib>=1.1 in /opt/anaconda3/lib/python3.12/site-packages (from yfinance) (1.1)\n",
      "Requirement already satisfied: soupsieve>1.2 in /opt/anaconda3/lib/python3.12/site-packages (from beautifulsoup4>=4.11.1->yfinance) (2.5)\n",
      "Requirement already satisfied: six>=1.9 in /opt/anaconda3/lib/python3.12/site-packages (from html5lib>=1.1->yfinance) (1.16.0)\n",
      "Requirement already satisfied: webencodings in /opt/anaconda3/lib/python3.12/site-packages (from html5lib>=1.1->yfinance) (0.5.1)\n",
      "Requirement already satisfied: python-dateutil>=2.8.2 in /opt/anaconda3/lib/python3.12/site-packages (from pandas>=1.3.0->yfinance) (2.9.0.post0)\n",
      "Requirement already satisfied: tzdata>=2022.7 in /opt/anaconda3/lib/python3.12/site-packages (from pandas>=1.3.0->yfinance) (2023.3)\n",
      "Requirement already satisfied: charset-normalizer<4,>=2 in /opt/anaconda3/lib/python3.12/site-packages (from requests>=2.31->yfinance) (2.0.4)\n",
      "Requirement already satisfied: idna<4,>=2.5 in /opt/anaconda3/lib/python3.12/site-packages (from requests>=2.31->yfinance) (3.7)\n",
      "Requirement already satisfied: urllib3<3,>=1.21.1 in /opt/anaconda3/lib/python3.12/site-packages (from requests>=2.31->yfinance) (2.2.2)\n",
      "Requirement already satisfied: certifi>=2017.4.17 in /opt/anaconda3/lib/python3.12/site-packages (from requests>=2.31->yfinance) (2024.7.4)\n",
      "Note: you may need to restart the kernel to use updated packages.\n"
     ]
    }
   ],
   "source": [
    "%pip install yfinance"
   ]
  },
  {
   "cell_type": "code",
   "execution_count": 9,
   "id": "c514e28c-f04a-4133-b511-402225c56275",
   "metadata": {},
   "outputs": [],
   "source": [
    "import yfinance as yf #we will be pulling the info for our historical ETH(Ethereum Crypto) prices from this \n",
    "import pandas as pd\n",
    "import matplotlib.pyplot as plt"
   ]
  },
  {
   "cell_type": "code",
   "execution_count": 10,
   "id": "2da1da1c-21cc-481a-b71d-c93b0559c9e1",
   "metadata": {},
   "outputs": [
    {
     "name": "stderr",
     "output_type": "stream",
     "text": [
      "[*********************100%***********************]  1 of 1 completed"
     ]
    },
    {
     "name": "stdout",
     "output_type": "stream",
     "text": [
      "Price                       Adj Close       Close        High         Low  \\\n",
      "Ticker                        ETH-USD     ETH-USD     ETH-USD     ETH-USD   \n",
      "Date                                                                        \n",
      "2017-11-09 00:00:00+00:00  320.884003  320.884003  329.451996  307.056000   \n",
      "2017-11-10 00:00:00+00:00  299.252991  299.252991  324.717987  294.541992   \n",
      "2017-11-11 00:00:00+00:00  314.681000  314.681000  319.453003  298.191986   \n",
      "2017-11-12 00:00:00+00:00  307.907990  307.907990  319.153015  298.513000   \n",
      "2017-11-13 00:00:00+00:00  316.716003  316.716003  328.415009  307.024994   \n",
      "...                               ...         ...         ...         ...   \n",
      "2020-12-27 00:00:00+00:00  682.642334  682.642334  711.393555  628.334961   \n",
      "2020-12-28 00:00:00+00:00  730.397339  730.397339  745.877747  683.205811   \n",
      "2020-12-29 00:00:00+00:00  731.520142  731.520142  737.952881  692.149414   \n",
      "2020-12-30 00:00:00+00:00  751.618958  751.618958  754.303223  720.988892   \n",
      "2020-12-31 00:00:00+00:00  737.803406  737.803406  754.299438  726.511902   \n",
      "\n",
      "Price                            Open       Volume  \n",
      "Ticker                        ETH-USD      ETH-USD  \n",
      "Date                                                \n",
      "2017-11-09 00:00:00+00:00  308.644989    893249984  \n",
      "2017-11-10 00:00:00+00:00  320.670990    885985984  \n",
      "2017-11-11 00:00:00+00:00  298.585999    842300992  \n",
      "2017-11-12 00:00:00+00:00  314.690002   1613479936  \n",
      "2017-11-13 00:00:00+00:00  307.024994   1041889984  \n",
      "...                               ...          ...  \n",
      "2020-12-27 00:00:00+00:00  635.887146  26093552821  \n",
      "2020-12-28 00:00:00+00:00  683.205811  24222565862  \n",
      "2020-12-29 00:00:00+00:00  730.358704  18710683199  \n",
      "2020-12-30 00:00:00+00:00  731.472839  17294574210  \n",
      "2020-12-31 00:00:00+00:00  751.626648  13926846861  \n",
      "\n",
      "[1149 rows x 6 columns]\n"
     ]
    },
    {
     "name": "stderr",
     "output_type": "stream",
     "text": [
      "\n"
     ]
    }
   ],
   "source": [
    "ticker = 'ETH-USD'\n",
    "eth_data = yf.download(ticker, start='2017-01-01', end='2021-01-01') \n",
    "# Creating the date ranges that we are intrested in but we will be prediciting 2019 \n",
    "print(eth_data)"
   ]
  },
  {
   "cell_type": "markdown",
   "id": "9e5a41dc-5f9a-4041-a821-eab2f0450c06",
   "metadata": {},
   "source": [
    "*Now lets filter the data to exclude 2019 prices*"
   ]
  },
  {
   "cell_type": "code",
   "execution_count": 15,
   "id": "05c761ff-2594-4fdb-a87b-ffb74efba45e",
   "metadata": {},
   "outputs": [],
   "source": [
    "eth_filtered = eth_data[(eth_data.index < '2019-01-01') | (eth_data.index >= '2020-01-01') ]"
   ]
  },
  {
   "cell_type": "code",
   "execution_count": 19,
   "id": "f7d4c68d-a834-43f4-9cb1-d1c82a5b89f6",
   "metadata": {},
   "outputs": [
    {
     "data": {
      "text/plain": [
       "Price      Ticker \n",
       "Adj Close  ETH-USD    0\n",
       "Close      ETH-USD    0\n",
       "High       ETH-USD    0\n",
       "Low        ETH-USD    0\n",
       "Open       ETH-USD    0\n",
       "Volume     ETH-USD    0\n",
       "dtype: int64"
      ]
     },
     "execution_count": 19,
     "metadata": {},
     "output_type": "execute_result"
    }
   ],
   "source": [
    "eth_filtered.isna().sum()"
   ]
  },
  {
   "cell_type": "markdown",
   "id": "927f6187-2fb5-46ba-a6af-9d34d348a9a9",
   "metadata": {},
   "source": [
    "Just checking to see if there are any null values this also shows us the relative features in our data!"
   ]
  },
  {
   "cell_type": "markdown",
   "id": "766a8809-a535-4fb8-b118-c5a91182f054",
   "metadata": {},
   "source": [
    "For those who are new to the world of cryptocurrency, let's start with a brief introduction before diving into the specifics. Cryptocurrency, often referred to simply as 'crypto,' are a digital or virtual form of currency that relies on cryptography for security. Unlike traditional currencies issued by governments and regulated by central banks, cryptocurrencies operate on decentralized networks using blockchain technology. Okay but what even is that? This means that a crytpo like \"Ethereum\" operates on a network of computers (nodes) spread worldwide rather than relying on a single, central authority, like a bank or corporation.  This structure allows for transparency, security, and independence from central authorities.\n",
    "\n",
    "In addition to serving as digital money, cryptocurrencies have a range of applications that go beyond just buying and selling. For instance, they enable fast, low-cost global payments, provide financial services for those without access to traditional banking, and support a variety of online services through smart contracts. Smart contract you say? What makes it so smart? Smart contracts are a self-executing program or code that runs on a blockchain, automatically enforcing and executing the terms of an agreement when certain conditions are met. With crypto, we see innovations across fields like finance, supply chain management, gaming, and art through NFTs (non-fungible tokens)."
   ]
  },
  {
   "cell_type": "code",
   "execution_count": null,
   "id": "30bb314e-3fb7-491b-91b7-84b385c4ed3b",
   "metadata": {},
   "outputs": [],
   "source": []
  }
 ],
 "metadata": {
  "kernelspec": {
   "display_name": "Python 3 (ipykernel)",
   "language": "python",
   "name": "python3"
  },
  "language_info": {
   "codemirror_mode": {
    "name": "ipython",
    "version": 3
   },
   "file_extension": ".py",
   "mimetype": "text/x-python",
   "name": "python",
   "nbconvert_exporter": "python",
   "pygments_lexer": "ipython3",
   "version": "3.12.4"
  }
 },
 "nbformat": 4,
 "nbformat_minor": 5
}
